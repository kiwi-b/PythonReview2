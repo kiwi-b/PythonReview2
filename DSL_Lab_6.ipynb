{
  "nbformat": 4,
  "nbformat_minor": 0,
  "metadata": {
    "colab": {
      "provenance": [],
      "include_colab_link": true
    },
    "kernelspec": {
      "name": "python3",
      "display_name": "Python 3"
    },
    "language_info": {
      "name": "python"
    },
    "widgets": {
      "application/vnd.jupyter.widget-state+json": {
        "dfd0c585af664734b43d0798b7ad21b0": {
          "model_module": "@jupyter-widgets/controls",
          "model_name": "HBoxModel",
          "model_module_version": "1.5.0",
          "state": {
            "_dom_classes": [],
            "_model_module": "@jupyter-widgets/controls",
            "_model_module_version": "1.5.0",
            "_model_name": "HBoxModel",
            "_view_count": null,
            "_view_module": "@jupyter-widgets/controls",
            "_view_module_version": "1.5.0",
            "_view_name": "HBoxView",
            "box_style": "",
            "children": [
              "IPY_MODEL_0e4e35a162bb4686aad59fe40a281463",
              "IPY_MODEL_416254ca1eb14d3a8dba3b5cc067ad3b",
              "IPY_MODEL_3f7ca3de85d742a2a1edcb503f1ce70b"
            ],
            "layout": "IPY_MODEL_73b5d11481ef44d7a4fdb2b16ca20fb4"
          }
        },
        "0e4e35a162bb4686aad59fe40a281463": {
          "model_module": "@jupyter-widgets/controls",
          "model_name": "HTMLModel",
          "model_module_version": "1.5.0",
          "state": {
            "_dom_classes": [],
            "_model_module": "@jupyter-widgets/controls",
            "_model_module_version": "1.5.0",
            "_model_name": "HTMLModel",
            "_view_count": null,
            "_view_module": "@jupyter-widgets/controls",
            "_view_module_version": "1.5.0",
            "_view_name": "HTMLView",
            "description": "",
            "description_tooltip": null,
            "layout": "IPY_MODEL_d239125c73b042c7aa3aa8c86bde8db9",
            "placeholder": "​",
            "style": "IPY_MODEL_50e5c2dbafb54e8fb1c9ff8d9bf20c0a",
            "value": "100%"
          }
        },
        "416254ca1eb14d3a8dba3b5cc067ad3b": {
          "model_module": "@jupyter-widgets/controls",
          "model_name": "FloatProgressModel",
          "model_module_version": "1.5.0",
          "state": {
            "_dom_classes": [],
            "_model_module": "@jupyter-widgets/controls",
            "_model_module_version": "1.5.0",
            "_model_name": "FloatProgressModel",
            "_view_count": null,
            "_view_module": "@jupyter-widgets/controls",
            "_view_module_version": "1.5.0",
            "_view_name": "ProgressView",
            "bar_style": "success",
            "description": "",
            "description_tooltip": null,
            "layout": "IPY_MODEL_25375f913c74432dbb130afb2077c61e",
            "max": 10000,
            "min": 0,
            "orientation": "horizontal",
            "style": "IPY_MODEL_6c44f37ba76f40669c3afa86518ecb44",
            "value": 10000
          }
        },
        "3f7ca3de85d742a2a1edcb503f1ce70b": {
          "model_module": "@jupyter-widgets/controls",
          "model_name": "HTMLModel",
          "model_module_version": "1.5.0",
          "state": {
            "_dom_classes": [],
            "_model_module": "@jupyter-widgets/controls",
            "_model_module_version": "1.5.0",
            "_model_name": "HTMLModel",
            "_view_count": null,
            "_view_module": "@jupyter-widgets/controls",
            "_view_module_version": "1.5.0",
            "_view_name": "HTMLView",
            "description": "",
            "description_tooltip": null,
            "layout": "IPY_MODEL_55d7ba871a164d319477915374af97b2",
            "placeholder": "​",
            "style": "IPY_MODEL_dafeec75dd894652b374f8c4af37faec",
            "value": " 10000/10000 [02:33&lt;00:00, 71.63it/s]"
          }
        },
        "73b5d11481ef44d7a4fdb2b16ca20fb4": {
          "model_module": "@jupyter-widgets/base",
          "model_name": "LayoutModel",
          "model_module_version": "1.2.0",
          "state": {
            "_model_module": "@jupyter-widgets/base",
            "_model_module_version": "1.2.0",
            "_model_name": "LayoutModel",
            "_view_count": null,
            "_view_module": "@jupyter-widgets/base",
            "_view_module_version": "1.2.0",
            "_view_name": "LayoutView",
            "align_content": null,
            "align_items": null,
            "align_self": null,
            "border": null,
            "bottom": null,
            "display": null,
            "flex": null,
            "flex_flow": null,
            "grid_area": null,
            "grid_auto_columns": null,
            "grid_auto_flow": null,
            "grid_auto_rows": null,
            "grid_column": null,
            "grid_gap": null,
            "grid_row": null,
            "grid_template_areas": null,
            "grid_template_columns": null,
            "grid_template_rows": null,
            "height": null,
            "justify_content": null,
            "justify_items": null,
            "left": null,
            "margin": null,
            "max_height": null,
            "max_width": null,
            "min_height": null,
            "min_width": null,
            "object_fit": null,
            "object_position": null,
            "order": null,
            "overflow": null,
            "overflow_x": null,
            "overflow_y": null,
            "padding": null,
            "right": null,
            "top": null,
            "visibility": null,
            "width": null
          }
        },
        "d239125c73b042c7aa3aa8c86bde8db9": {
          "model_module": "@jupyter-widgets/base",
          "model_name": "LayoutModel",
          "model_module_version": "1.2.0",
          "state": {
            "_model_module": "@jupyter-widgets/base",
            "_model_module_version": "1.2.0",
            "_model_name": "LayoutModel",
            "_view_count": null,
            "_view_module": "@jupyter-widgets/base",
            "_view_module_version": "1.2.0",
            "_view_name": "LayoutView",
            "align_content": null,
            "align_items": null,
            "align_self": null,
            "border": null,
            "bottom": null,
            "display": null,
            "flex": null,
            "flex_flow": null,
            "grid_area": null,
            "grid_auto_columns": null,
            "grid_auto_flow": null,
            "grid_auto_rows": null,
            "grid_column": null,
            "grid_gap": null,
            "grid_row": null,
            "grid_template_areas": null,
            "grid_template_columns": null,
            "grid_template_rows": null,
            "height": null,
            "justify_content": null,
            "justify_items": null,
            "left": null,
            "margin": null,
            "max_height": null,
            "max_width": null,
            "min_height": null,
            "min_width": null,
            "object_fit": null,
            "object_position": null,
            "order": null,
            "overflow": null,
            "overflow_x": null,
            "overflow_y": null,
            "padding": null,
            "right": null,
            "top": null,
            "visibility": null,
            "width": null
          }
        },
        "50e5c2dbafb54e8fb1c9ff8d9bf20c0a": {
          "model_module": "@jupyter-widgets/controls",
          "model_name": "DescriptionStyleModel",
          "model_module_version": "1.5.0",
          "state": {
            "_model_module": "@jupyter-widgets/controls",
            "_model_module_version": "1.5.0",
            "_model_name": "DescriptionStyleModel",
            "_view_count": null,
            "_view_module": "@jupyter-widgets/base",
            "_view_module_version": "1.2.0",
            "_view_name": "StyleView",
            "description_width": ""
          }
        },
        "25375f913c74432dbb130afb2077c61e": {
          "model_module": "@jupyter-widgets/base",
          "model_name": "LayoutModel",
          "model_module_version": "1.2.0",
          "state": {
            "_model_module": "@jupyter-widgets/base",
            "_model_module_version": "1.2.0",
            "_model_name": "LayoutModel",
            "_view_count": null,
            "_view_module": "@jupyter-widgets/base",
            "_view_module_version": "1.2.0",
            "_view_name": "LayoutView",
            "align_content": null,
            "align_items": null,
            "align_self": null,
            "border": null,
            "bottom": null,
            "display": null,
            "flex": null,
            "flex_flow": null,
            "grid_area": null,
            "grid_auto_columns": null,
            "grid_auto_flow": null,
            "grid_auto_rows": null,
            "grid_column": null,
            "grid_gap": null,
            "grid_row": null,
            "grid_template_areas": null,
            "grid_template_columns": null,
            "grid_template_rows": null,
            "height": null,
            "justify_content": null,
            "justify_items": null,
            "left": null,
            "margin": null,
            "max_height": null,
            "max_width": null,
            "min_height": null,
            "min_width": null,
            "object_fit": null,
            "object_position": null,
            "order": null,
            "overflow": null,
            "overflow_x": null,
            "overflow_y": null,
            "padding": null,
            "right": null,
            "top": null,
            "visibility": null,
            "width": null
          }
        },
        "6c44f37ba76f40669c3afa86518ecb44": {
          "model_module": "@jupyter-widgets/controls",
          "model_name": "ProgressStyleModel",
          "model_module_version": "1.5.0",
          "state": {
            "_model_module": "@jupyter-widgets/controls",
            "_model_module_version": "1.5.0",
            "_model_name": "ProgressStyleModel",
            "_view_count": null,
            "_view_module": "@jupyter-widgets/base",
            "_view_module_version": "1.2.0",
            "_view_name": "StyleView",
            "bar_color": null,
            "description_width": ""
          }
        },
        "55d7ba871a164d319477915374af97b2": {
          "model_module": "@jupyter-widgets/base",
          "model_name": "LayoutModel",
          "model_module_version": "1.2.0",
          "state": {
            "_model_module": "@jupyter-widgets/base",
            "_model_module_version": "1.2.0",
            "_model_name": "LayoutModel",
            "_view_count": null,
            "_view_module": "@jupyter-widgets/base",
            "_view_module_version": "1.2.0",
            "_view_name": "LayoutView",
            "align_content": null,
            "align_items": null,
            "align_self": null,
            "border": null,
            "bottom": null,
            "display": null,
            "flex": null,
            "flex_flow": null,
            "grid_area": null,
            "grid_auto_columns": null,
            "grid_auto_flow": null,
            "grid_auto_rows": null,
            "grid_column": null,
            "grid_gap": null,
            "grid_row": null,
            "grid_template_areas": null,
            "grid_template_columns": null,
            "grid_template_rows": null,
            "height": null,
            "justify_content": null,
            "justify_items": null,
            "left": null,
            "margin": null,
            "max_height": null,
            "max_width": null,
            "min_height": null,
            "min_width": null,
            "object_fit": null,
            "object_position": null,
            "order": null,
            "overflow": null,
            "overflow_x": null,
            "overflow_y": null,
            "padding": null,
            "right": null,
            "top": null,
            "visibility": null,
            "width": null
          }
        },
        "dafeec75dd894652b374f8c4af37faec": {
          "model_module": "@jupyter-widgets/controls",
          "model_name": "DescriptionStyleModel",
          "model_module_version": "1.5.0",
          "state": {
            "_model_module": "@jupyter-widgets/controls",
            "_model_module_version": "1.5.0",
            "_model_name": "DescriptionStyleModel",
            "_view_count": null,
            "_view_module": "@jupyter-widgets/base",
            "_view_module_version": "1.2.0",
            "_view_name": "StyleView",
            "description_width": ""
          }
        },
        "5b881a66ff644c49811749f359f10fee": {
          "model_module": "@jupyter-widgets/controls",
          "model_name": "HBoxModel",
          "model_module_version": "1.5.0",
          "state": {
            "_dom_classes": [],
            "_model_module": "@jupyter-widgets/controls",
            "_model_module_version": "1.5.0",
            "_model_name": "HBoxModel",
            "_view_count": null,
            "_view_module": "@jupyter-widgets/controls",
            "_view_module_version": "1.5.0",
            "_view_name": "HBoxView",
            "box_style": "",
            "children": [
              "IPY_MODEL_0c7e8c9248f740369e2f1641c01b0339",
              "IPY_MODEL_d2aa3793da454fb7bd0a68d8f93e217f",
              "IPY_MODEL_d2bed493916c4aaea7dcc56b26e2a106"
            ],
            "layout": "IPY_MODEL_20ea685dbb1343a0bc9ff3d3c9dca0a1"
          }
        },
        "0c7e8c9248f740369e2f1641c01b0339": {
          "model_module": "@jupyter-widgets/controls",
          "model_name": "HTMLModel",
          "model_module_version": "1.5.0",
          "state": {
            "_dom_classes": [],
            "_model_module": "@jupyter-widgets/controls",
            "_model_module_version": "1.5.0",
            "_model_name": "HTMLModel",
            "_view_count": null,
            "_view_module": "@jupyter-widgets/controls",
            "_view_module_version": "1.5.0",
            "_view_name": "HTMLView",
            "description": "",
            "description_tooltip": null,
            "layout": "IPY_MODEL_220cf14185aa45c697adf99643d1525f",
            "placeholder": "​",
            "style": "IPY_MODEL_b8871a9e7c6148d08471d2460d4187c6",
            "value": "100%"
          }
        },
        "d2aa3793da454fb7bd0a68d8f93e217f": {
          "model_module": "@jupyter-widgets/controls",
          "model_name": "FloatProgressModel",
          "model_module_version": "1.5.0",
          "state": {
            "_dom_classes": [],
            "_model_module": "@jupyter-widgets/controls",
            "_model_module_version": "1.5.0",
            "_model_name": "FloatProgressModel",
            "_view_count": null,
            "_view_module": "@jupyter-widgets/controls",
            "_view_module_version": "1.5.0",
            "_view_name": "ProgressView",
            "bar_style": "success",
            "description": "",
            "description_tooltip": null,
            "layout": "IPY_MODEL_3fa504c2c532471eb468fbf85e34a317",
            "max": 10000,
            "min": 0,
            "orientation": "horizontal",
            "style": "IPY_MODEL_73661ea3cbf94a33aa0478334dadb3c7",
            "value": 10000
          }
        },
        "d2bed493916c4aaea7dcc56b26e2a106": {
          "model_module": "@jupyter-widgets/controls",
          "model_name": "HTMLModel",
          "model_module_version": "1.5.0",
          "state": {
            "_dom_classes": [],
            "_model_module": "@jupyter-widgets/controls",
            "_model_module_version": "1.5.0",
            "_model_name": "HTMLModel",
            "_view_count": null,
            "_view_module": "@jupyter-widgets/controls",
            "_view_module_version": "1.5.0",
            "_view_name": "HTMLView",
            "description": "",
            "description_tooltip": null,
            "layout": "IPY_MODEL_bff14050390d432ba31e0f597a42ffa7",
            "placeholder": "​",
            "style": "IPY_MODEL_8b034d0de45945f187f3b31994b4c5c8",
            "value": " 10000/10000 [03:07&lt;00:00, 56.53it/s]"
          }
        },
        "20ea685dbb1343a0bc9ff3d3c9dca0a1": {
          "model_module": "@jupyter-widgets/base",
          "model_name": "LayoutModel",
          "model_module_version": "1.2.0",
          "state": {
            "_model_module": "@jupyter-widgets/base",
            "_model_module_version": "1.2.0",
            "_model_name": "LayoutModel",
            "_view_count": null,
            "_view_module": "@jupyter-widgets/base",
            "_view_module_version": "1.2.0",
            "_view_name": "LayoutView",
            "align_content": null,
            "align_items": null,
            "align_self": null,
            "border": null,
            "bottom": null,
            "display": null,
            "flex": null,
            "flex_flow": null,
            "grid_area": null,
            "grid_auto_columns": null,
            "grid_auto_flow": null,
            "grid_auto_rows": null,
            "grid_column": null,
            "grid_gap": null,
            "grid_row": null,
            "grid_template_areas": null,
            "grid_template_columns": null,
            "grid_template_rows": null,
            "height": null,
            "justify_content": null,
            "justify_items": null,
            "left": null,
            "margin": null,
            "max_height": null,
            "max_width": null,
            "min_height": null,
            "min_width": null,
            "object_fit": null,
            "object_position": null,
            "order": null,
            "overflow": null,
            "overflow_x": null,
            "overflow_y": null,
            "padding": null,
            "right": null,
            "top": null,
            "visibility": null,
            "width": null
          }
        },
        "220cf14185aa45c697adf99643d1525f": {
          "model_module": "@jupyter-widgets/base",
          "model_name": "LayoutModel",
          "model_module_version": "1.2.0",
          "state": {
            "_model_module": "@jupyter-widgets/base",
            "_model_module_version": "1.2.0",
            "_model_name": "LayoutModel",
            "_view_count": null,
            "_view_module": "@jupyter-widgets/base",
            "_view_module_version": "1.2.0",
            "_view_name": "LayoutView",
            "align_content": null,
            "align_items": null,
            "align_self": null,
            "border": null,
            "bottom": null,
            "display": null,
            "flex": null,
            "flex_flow": null,
            "grid_area": null,
            "grid_auto_columns": null,
            "grid_auto_flow": null,
            "grid_auto_rows": null,
            "grid_column": null,
            "grid_gap": null,
            "grid_row": null,
            "grid_template_areas": null,
            "grid_template_columns": null,
            "grid_template_rows": null,
            "height": null,
            "justify_content": null,
            "justify_items": null,
            "left": null,
            "margin": null,
            "max_height": null,
            "max_width": null,
            "min_height": null,
            "min_width": null,
            "object_fit": null,
            "object_position": null,
            "order": null,
            "overflow": null,
            "overflow_x": null,
            "overflow_y": null,
            "padding": null,
            "right": null,
            "top": null,
            "visibility": null,
            "width": null
          }
        },
        "b8871a9e7c6148d08471d2460d4187c6": {
          "model_module": "@jupyter-widgets/controls",
          "model_name": "DescriptionStyleModel",
          "model_module_version": "1.5.0",
          "state": {
            "_model_module": "@jupyter-widgets/controls",
            "_model_module_version": "1.5.0",
            "_model_name": "DescriptionStyleModel",
            "_view_count": null,
            "_view_module": "@jupyter-widgets/base",
            "_view_module_version": "1.2.0",
            "_view_name": "StyleView",
            "description_width": ""
          }
        },
        "3fa504c2c532471eb468fbf85e34a317": {
          "model_module": "@jupyter-widgets/base",
          "model_name": "LayoutModel",
          "model_module_version": "1.2.0",
          "state": {
            "_model_module": "@jupyter-widgets/base",
            "_model_module_version": "1.2.0",
            "_model_name": "LayoutModel",
            "_view_count": null,
            "_view_module": "@jupyter-widgets/base",
            "_view_module_version": "1.2.0",
            "_view_name": "LayoutView",
            "align_content": null,
            "align_items": null,
            "align_self": null,
            "border": null,
            "bottom": null,
            "display": null,
            "flex": null,
            "flex_flow": null,
            "grid_area": null,
            "grid_auto_columns": null,
            "grid_auto_flow": null,
            "grid_auto_rows": null,
            "grid_column": null,
            "grid_gap": null,
            "grid_row": null,
            "grid_template_areas": null,
            "grid_template_columns": null,
            "grid_template_rows": null,
            "height": null,
            "justify_content": null,
            "justify_items": null,
            "left": null,
            "margin": null,
            "max_height": null,
            "max_width": null,
            "min_height": null,
            "min_width": null,
            "object_fit": null,
            "object_position": null,
            "order": null,
            "overflow": null,
            "overflow_x": null,
            "overflow_y": null,
            "padding": null,
            "right": null,
            "top": null,
            "visibility": null,
            "width": null
          }
        },
        "73661ea3cbf94a33aa0478334dadb3c7": {
          "model_module": "@jupyter-widgets/controls",
          "model_name": "ProgressStyleModel",
          "model_module_version": "1.5.0",
          "state": {
            "_model_module": "@jupyter-widgets/controls",
            "_model_module_version": "1.5.0",
            "_model_name": "ProgressStyleModel",
            "_view_count": null,
            "_view_module": "@jupyter-widgets/base",
            "_view_module_version": "1.2.0",
            "_view_name": "StyleView",
            "bar_color": null,
            "description_width": ""
          }
        },
        "bff14050390d432ba31e0f597a42ffa7": {
          "model_module": "@jupyter-widgets/base",
          "model_name": "LayoutModel",
          "model_module_version": "1.2.0",
          "state": {
            "_model_module": "@jupyter-widgets/base",
            "_model_module_version": "1.2.0",
            "_model_name": "LayoutModel",
            "_view_count": null,
            "_view_module": "@jupyter-widgets/base",
            "_view_module_version": "1.2.0",
            "_view_name": "LayoutView",
            "align_content": null,
            "align_items": null,
            "align_self": null,
            "border": null,
            "bottom": null,
            "display": null,
            "flex": null,
            "flex_flow": null,
            "grid_area": null,
            "grid_auto_columns": null,
            "grid_auto_flow": null,
            "grid_auto_rows": null,
            "grid_column": null,
            "grid_gap": null,
            "grid_row": null,
            "grid_template_areas": null,
            "grid_template_columns": null,
            "grid_template_rows": null,
            "height": null,
            "justify_content": null,
            "justify_items": null,
            "left": null,
            "margin": null,
            "max_height": null,
            "max_width": null,
            "min_height": null,
            "min_width": null,
            "object_fit": null,
            "object_position": null,
            "order": null,
            "overflow": null,
            "overflow_x": null,
            "overflow_y": null,
            "padding": null,
            "right": null,
            "top": null,
            "visibility": null,
            "width": null
          }
        },
        "8b034d0de45945f187f3b31994b4c5c8": {
          "model_module": "@jupyter-widgets/controls",
          "model_name": "DescriptionStyleModel",
          "model_module_version": "1.5.0",
          "state": {
            "_model_module": "@jupyter-widgets/controls",
            "_model_module_version": "1.5.0",
            "_model_name": "DescriptionStyleModel",
            "_view_count": null,
            "_view_module": "@jupyter-widgets/base",
            "_view_module_version": "1.2.0",
            "_view_name": "StyleView",
            "description_width": ""
          }
        },
        "ec4af6ff04824b3cb752c74f706fb012": {
          "model_module": "@jupyter-widgets/controls",
          "model_name": "HBoxModel",
          "model_module_version": "1.5.0",
          "state": {
            "_dom_classes": [],
            "_model_module": "@jupyter-widgets/controls",
            "_model_module_version": "1.5.0",
            "_model_name": "HBoxModel",
            "_view_count": null,
            "_view_module": "@jupyter-widgets/controls",
            "_view_module_version": "1.5.0",
            "_view_name": "HBoxView",
            "box_style": "",
            "children": [
              "IPY_MODEL_406fa823a6964b949e87b7c3d42ee34f",
              "IPY_MODEL_4eb7875776864a5daf0dd0a7ed717a5a",
              "IPY_MODEL_806f3e1299cf4f55a909804285517056"
            ],
            "layout": "IPY_MODEL_0d96aa14256f4d038f1934240bdebd43"
          }
        },
        "406fa823a6964b949e87b7c3d42ee34f": {
          "model_module": "@jupyter-widgets/controls",
          "model_name": "HTMLModel",
          "model_module_version": "1.5.0",
          "state": {
            "_dom_classes": [],
            "_model_module": "@jupyter-widgets/controls",
            "_model_module_version": "1.5.0",
            "_model_name": "HTMLModel",
            "_view_count": null,
            "_view_module": "@jupyter-widgets/controls",
            "_view_module_version": "1.5.0",
            "_view_name": "HTMLView",
            "description": "",
            "description_tooltip": null,
            "layout": "IPY_MODEL_87daeb3be4de4083b168fd26dca35e82",
            "placeholder": "​",
            "style": "IPY_MODEL_9b1e767aaade4248bc447a2d6d8c442f",
            "value": "100%"
          }
        },
        "4eb7875776864a5daf0dd0a7ed717a5a": {
          "model_module": "@jupyter-widgets/controls",
          "model_name": "FloatProgressModel",
          "model_module_version": "1.5.0",
          "state": {
            "_dom_classes": [],
            "_model_module": "@jupyter-widgets/controls",
            "_model_module_version": "1.5.0",
            "_model_name": "FloatProgressModel",
            "_view_count": null,
            "_view_module": "@jupyter-widgets/controls",
            "_view_module_version": "1.5.0",
            "_view_name": "ProgressView",
            "bar_style": "success",
            "description": "",
            "description_tooltip": null,
            "layout": "IPY_MODEL_772d78be88a0485497f0bd425b3b9259",
            "max": 10000,
            "min": 0,
            "orientation": "horizontal",
            "style": "IPY_MODEL_caefc0272bef48bdba0494fb132b4fe9",
            "value": 10000
          }
        },
        "806f3e1299cf4f55a909804285517056": {
          "model_module": "@jupyter-widgets/controls",
          "model_name": "HTMLModel",
          "model_module_version": "1.5.0",
          "state": {
            "_dom_classes": [],
            "_model_module": "@jupyter-widgets/controls",
            "_model_module_version": "1.5.0",
            "_model_name": "HTMLModel",
            "_view_count": null,
            "_view_module": "@jupyter-widgets/controls",
            "_view_module_version": "1.5.0",
            "_view_name": "HTMLView",
            "description": "",
            "description_tooltip": null,
            "layout": "IPY_MODEL_48c2e11fbc5d4804b17a84356a94b2c3",
            "placeholder": "​",
            "style": "IPY_MODEL_db5b1d485dbd4d3c9fa6f81eac00b022",
            "value": " 10000/10000 [00:53&lt;00:00, 191.72it/s]"
          }
        },
        "0d96aa14256f4d038f1934240bdebd43": {
          "model_module": "@jupyter-widgets/base",
          "model_name": "LayoutModel",
          "model_module_version": "1.2.0",
          "state": {
            "_model_module": "@jupyter-widgets/base",
            "_model_module_version": "1.2.0",
            "_model_name": "LayoutModel",
            "_view_count": null,
            "_view_module": "@jupyter-widgets/base",
            "_view_module_version": "1.2.0",
            "_view_name": "LayoutView",
            "align_content": null,
            "align_items": null,
            "align_self": null,
            "border": null,
            "bottom": null,
            "display": null,
            "flex": null,
            "flex_flow": null,
            "grid_area": null,
            "grid_auto_columns": null,
            "grid_auto_flow": null,
            "grid_auto_rows": null,
            "grid_column": null,
            "grid_gap": null,
            "grid_row": null,
            "grid_template_areas": null,
            "grid_template_columns": null,
            "grid_template_rows": null,
            "height": null,
            "justify_content": null,
            "justify_items": null,
            "left": null,
            "margin": null,
            "max_height": null,
            "max_width": null,
            "min_height": null,
            "min_width": null,
            "object_fit": null,
            "object_position": null,
            "order": null,
            "overflow": null,
            "overflow_x": null,
            "overflow_y": null,
            "padding": null,
            "right": null,
            "top": null,
            "visibility": null,
            "width": null
          }
        },
        "87daeb3be4de4083b168fd26dca35e82": {
          "model_module": "@jupyter-widgets/base",
          "model_name": "LayoutModel",
          "model_module_version": "1.2.0",
          "state": {
            "_model_module": "@jupyter-widgets/base",
            "_model_module_version": "1.2.0",
            "_model_name": "LayoutModel",
            "_view_count": null,
            "_view_module": "@jupyter-widgets/base",
            "_view_module_version": "1.2.0",
            "_view_name": "LayoutView",
            "align_content": null,
            "align_items": null,
            "align_self": null,
            "border": null,
            "bottom": null,
            "display": null,
            "flex": null,
            "flex_flow": null,
            "grid_area": null,
            "grid_auto_columns": null,
            "grid_auto_flow": null,
            "grid_auto_rows": null,
            "grid_column": null,
            "grid_gap": null,
            "grid_row": null,
            "grid_template_areas": null,
            "grid_template_columns": null,
            "grid_template_rows": null,
            "height": null,
            "justify_content": null,
            "justify_items": null,
            "left": null,
            "margin": null,
            "max_height": null,
            "max_width": null,
            "min_height": null,
            "min_width": null,
            "object_fit": null,
            "object_position": null,
            "order": null,
            "overflow": null,
            "overflow_x": null,
            "overflow_y": null,
            "padding": null,
            "right": null,
            "top": null,
            "visibility": null,
            "width": null
          }
        },
        "9b1e767aaade4248bc447a2d6d8c442f": {
          "model_module": "@jupyter-widgets/controls",
          "model_name": "DescriptionStyleModel",
          "model_module_version": "1.5.0",
          "state": {
            "_model_module": "@jupyter-widgets/controls",
            "_model_module_version": "1.5.0",
            "_model_name": "DescriptionStyleModel",
            "_view_count": null,
            "_view_module": "@jupyter-widgets/base",
            "_view_module_version": "1.2.0",
            "_view_name": "StyleView",
            "description_width": ""
          }
        },
        "772d78be88a0485497f0bd425b3b9259": {
          "model_module": "@jupyter-widgets/base",
          "model_name": "LayoutModel",
          "model_module_version": "1.2.0",
          "state": {
            "_model_module": "@jupyter-widgets/base",
            "_model_module_version": "1.2.0",
            "_model_name": "LayoutModel",
            "_view_count": null,
            "_view_module": "@jupyter-widgets/base",
            "_view_module_version": "1.2.0",
            "_view_name": "LayoutView",
            "align_content": null,
            "align_items": null,
            "align_self": null,
            "border": null,
            "bottom": null,
            "display": null,
            "flex": null,
            "flex_flow": null,
            "grid_area": null,
            "grid_auto_columns": null,
            "grid_auto_flow": null,
            "grid_auto_rows": null,
            "grid_column": null,
            "grid_gap": null,
            "grid_row": null,
            "grid_template_areas": null,
            "grid_template_columns": null,
            "grid_template_rows": null,
            "height": null,
            "justify_content": null,
            "justify_items": null,
            "left": null,
            "margin": null,
            "max_height": null,
            "max_width": null,
            "min_height": null,
            "min_width": null,
            "object_fit": null,
            "object_position": null,
            "order": null,
            "overflow": null,
            "overflow_x": null,
            "overflow_y": null,
            "padding": null,
            "right": null,
            "top": null,
            "visibility": null,
            "width": null
          }
        },
        "caefc0272bef48bdba0494fb132b4fe9": {
          "model_module": "@jupyter-widgets/controls",
          "model_name": "ProgressStyleModel",
          "model_module_version": "1.5.0",
          "state": {
            "_model_module": "@jupyter-widgets/controls",
            "_model_module_version": "1.5.0",
            "_model_name": "ProgressStyleModel",
            "_view_count": null,
            "_view_module": "@jupyter-widgets/base",
            "_view_module_version": "1.2.0",
            "_view_name": "StyleView",
            "bar_color": null,
            "description_width": ""
          }
        },
        "48c2e11fbc5d4804b17a84356a94b2c3": {
          "model_module": "@jupyter-widgets/base",
          "model_name": "LayoutModel",
          "model_module_version": "1.2.0",
          "state": {
            "_model_module": "@jupyter-widgets/base",
            "_model_module_version": "1.2.0",
            "_model_name": "LayoutModel",
            "_view_count": null,
            "_view_module": "@jupyter-widgets/base",
            "_view_module_version": "1.2.0",
            "_view_name": "LayoutView",
            "align_content": null,
            "align_items": null,
            "align_self": null,
            "border": null,
            "bottom": null,
            "display": null,
            "flex": null,
            "flex_flow": null,
            "grid_area": null,
            "grid_auto_columns": null,
            "grid_auto_flow": null,
            "grid_auto_rows": null,
            "grid_column": null,
            "grid_gap": null,
            "grid_row": null,
            "grid_template_areas": null,
            "grid_template_columns": null,
            "grid_template_rows": null,
            "height": null,
            "justify_content": null,
            "justify_items": null,
            "left": null,
            "margin": null,
            "max_height": null,
            "max_width": null,
            "min_height": null,
            "min_width": null,
            "object_fit": null,
            "object_position": null,
            "order": null,
            "overflow": null,
            "overflow_x": null,
            "overflow_y": null,
            "padding": null,
            "right": null,
            "top": null,
            "visibility": null,
            "width": null
          }
        },
        "db5b1d485dbd4d3c9fa6f81eac00b022": {
          "model_module": "@jupyter-widgets/controls",
          "model_name": "DescriptionStyleModel",
          "model_module_version": "1.5.0",
          "state": {
            "_model_module": "@jupyter-widgets/controls",
            "_model_module_version": "1.5.0",
            "_model_name": "DescriptionStyleModel",
            "_view_count": null,
            "_view_module": "@jupyter-widgets/base",
            "_view_module_version": "1.2.0",
            "_view_name": "StyleView",
            "description_width": ""
          }
        },
        "040f6574313448ccb2e8819551b60bf1": {
          "model_module": "@jupyter-widgets/controls",
          "model_name": "HBoxModel",
          "model_module_version": "1.5.0",
          "state": {
            "_dom_classes": [],
            "_model_module": "@jupyter-widgets/controls",
            "_model_module_version": "1.5.0",
            "_model_name": "HBoxModel",
            "_view_count": null,
            "_view_module": "@jupyter-widgets/controls",
            "_view_module_version": "1.5.0",
            "_view_name": "HBoxView",
            "box_style": "",
            "children": [
              "IPY_MODEL_9a2c71e207dc4b3e9fb53a39d48abd25",
              "IPY_MODEL_5b021786631545e0830f90cfb535ac65",
              "IPY_MODEL_49cf496aca4947cdb9892145fd55de85"
            ],
            "layout": "IPY_MODEL_ac471a0d2e4e463691e09585dac4c80a"
          }
        },
        "9a2c71e207dc4b3e9fb53a39d48abd25": {
          "model_module": "@jupyter-widgets/controls",
          "model_name": "HTMLModel",
          "model_module_version": "1.5.0",
          "state": {
            "_dom_classes": [],
            "_model_module": "@jupyter-widgets/controls",
            "_model_module_version": "1.5.0",
            "_model_name": "HTMLModel",
            "_view_count": null,
            "_view_module": "@jupyter-widgets/controls",
            "_view_module_version": "1.5.0",
            "_view_name": "HTMLView",
            "description": "",
            "description_tooltip": null,
            "layout": "IPY_MODEL_995120a0c8a04e15928abd6e975df950",
            "placeholder": "​",
            "style": "IPY_MODEL_c9e45e859a644ff192bd6f3417c33449",
            "value": "100%"
          }
        },
        "5b021786631545e0830f90cfb535ac65": {
          "model_module": "@jupyter-widgets/controls",
          "model_name": "FloatProgressModel",
          "model_module_version": "1.5.0",
          "state": {
            "_dom_classes": [],
            "_model_module": "@jupyter-widgets/controls",
            "_model_module_version": "1.5.0",
            "_model_name": "FloatProgressModel",
            "_view_count": null,
            "_view_module": "@jupyter-widgets/controls",
            "_view_module_version": "1.5.0",
            "_view_name": "ProgressView",
            "bar_style": "success",
            "description": "",
            "description_tooltip": null,
            "layout": "IPY_MODEL_c58709147a8a4426885d0d6271368478",
            "max": 10000,
            "min": 0,
            "orientation": "horizontal",
            "style": "IPY_MODEL_114fae0e19ce4f208e7b8ce7667e37ee",
            "value": 10000
          }
        },
        "49cf496aca4947cdb9892145fd55de85": {
          "model_module": "@jupyter-widgets/controls",
          "model_name": "HTMLModel",
          "model_module_version": "1.5.0",
          "state": {
            "_dom_classes": [],
            "_model_module": "@jupyter-widgets/controls",
            "_model_module_version": "1.5.0",
            "_model_name": "HTMLModel",
            "_view_count": null,
            "_view_module": "@jupyter-widgets/controls",
            "_view_module_version": "1.5.0",
            "_view_name": "HTMLView",
            "description": "",
            "description_tooltip": null,
            "layout": "IPY_MODEL_64207e6c289549f79987e93bae73a76a",
            "placeholder": "​",
            "style": "IPY_MODEL_6067fdf7c0b1445cb2c4e9c3efd9ef00",
            "value": " 10000/10000 [00:50&lt;00:00, 205.24it/s]"
          }
        },
        "ac471a0d2e4e463691e09585dac4c80a": {
          "model_module": "@jupyter-widgets/base",
          "model_name": "LayoutModel",
          "model_module_version": "1.2.0",
          "state": {
            "_model_module": "@jupyter-widgets/base",
            "_model_module_version": "1.2.0",
            "_model_name": "LayoutModel",
            "_view_count": null,
            "_view_module": "@jupyter-widgets/base",
            "_view_module_version": "1.2.0",
            "_view_name": "LayoutView",
            "align_content": null,
            "align_items": null,
            "align_self": null,
            "border": null,
            "bottom": null,
            "display": null,
            "flex": null,
            "flex_flow": null,
            "grid_area": null,
            "grid_auto_columns": null,
            "grid_auto_flow": null,
            "grid_auto_rows": null,
            "grid_column": null,
            "grid_gap": null,
            "grid_row": null,
            "grid_template_areas": null,
            "grid_template_columns": null,
            "grid_template_rows": null,
            "height": null,
            "justify_content": null,
            "justify_items": null,
            "left": null,
            "margin": null,
            "max_height": null,
            "max_width": null,
            "min_height": null,
            "min_width": null,
            "object_fit": null,
            "object_position": null,
            "order": null,
            "overflow": null,
            "overflow_x": null,
            "overflow_y": null,
            "padding": null,
            "right": null,
            "top": null,
            "visibility": null,
            "width": null
          }
        },
        "995120a0c8a04e15928abd6e975df950": {
          "model_module": "@jupyter-widgets/base",
          "model_name": "LayoutModel",
          "model_module_version": "1.2.0",
          "state": {
            "_model_module": "@jupyter-widgets/base",
            "_model_module_version": "1.2.0",
            "_model_name": "LayoutModel",
            "_view_count": null,
            "_view_module": "@jupyter-widgets/base",
            "_view_module_version": "1.2.0",
            "_view_name": "LayoutView",
            "align_content": null,
            "align_items": null,
            "align_self": null,
            "border": null,
            "bottom": null,
            "display": null,
            "flex": null,
            "flex_flow": null,
            "grid_area": null,
            "grid_auto_columns": null,
            "grid_auto_flow": null,
            "grid_auto_rows": null,
            "grid_column": null,
            "grid_gap": null,
            "grid_row": null,
            "grid_template_areas": null,
            "grid_template_columns": null,
            "grid_template_rows": null,
            "height": null,
            "justify_content": null,
            "justify_items": null,
            "left": null,
            "margin": null,
            "max_height": null,
            "max_width": null,
            "min_height": null,
            "min_width": null,
            "object_fit": null,
            "object_position": null,
            "order": null,
            "overflow": null,
            "overflow_x": null,
            "overflow_y": null,
            "padding": null,
            "right": null,
            "top": null,
            "visibility": null,
            "width": null
          }
        },
        "c9e45e859a644ff192bd6f3417c33449": {
          "model_module": "@jupyter-widgets/controls",
          "model_name": "DescriptionStyleModel",
          "model_module_version": "1.5.0",
          "state": {
            "_model_module": "@jupyter-widgets/controls",
            "_model_module_version": "1.5.0",
            "_model_name": "DescriptionStyleModel",
            "_view_count": null,
            "_view_module": "@jupyter-widgets/base",
            "_view_module_version": "1.2.0",
            "_view_name": "StyleView",
            "description_width": ""
          }
        },
        "c58709147a8a4426885d0d6271368478": {
          "model_module": "@jupyter-widgets/base",
          "model_name": "LayoutModel",
          "model_module_version": "1.2.0",
          "state": {
            "_model_module": "@jupyter-widgets/base",
            "_model_module_version": "1.2.0",
            "_model_name": "LayoutModel",
            "_view_count": null,
            "_view_module": "@jupyter-widgets/base",
            "_view_module_version": "1.2.0",
            "_view_name": "LayoutView",
            "align_content": null,
            "align_items": null,
            "align_self": null,
            "border": null,
            "bottom": null,
            "display": null,
            "flex": null,
            "flex_flow": null,
            "grid_area": null,
            "grid_auto_columns": null,
            "grid_auto_flow": null,
            "grid_auto_rows": null,
            "grid_column": null,
            "grid_gap": null,
            "grid_row": null,
            "grid_template_areas": null,
            "grid_template_columns": null,
            "grid_template_rows": null,
            "height": null,
            "justify_content": null,
            "justify_items": null,
            "left": null,
            "margin": null,
            "max_height": null,
            "max_width": null,
            "min_height": null,
            "min_width": null,
            "object_fit": null,
            "object_position": null,
            "order": null,
            "overflow": null,
            "overflow_x": null,
            "overflow_y": null,
            "padding": null,
            "right": null,
            "top": null,
            "visibility": null,
            "width": null
          }
        },
        "114fae0e19ce4f208e7b8ce7667e37ee": {
          "model_module": "@jupyter-widgets/controls",
          "model_name": "ProgressStyleModel",
          "model_module_version": "1.5.0",
          "state": {
            "_model_module": "@jupyter-widgets/controls",
            "_model_module_version": "1.5.0",
            "_model_name": "ProgressStyleModel",
            "_view_count": null,
            "_view_module": "@jupyter-widgets/base",
            "_view_module_version": "1.2.0",
            "_view_name": "StyleView",
            "bar_color": null,
            "description_width": ""
          }
        },
        "64207e6c289549f79987e93bae73a76a": {
          "model_module": "@jupyter-widgets/base",
          "model_name": "LayoutModel",
          "model_module_version": "1.2.0",
          "state": {
            "_model_module": "@jupyter-widgets/base",
            "_model_module_version": "1.2.0",
            "_model_name": "LayoutModel",
            "_view_count": null,
            "_view_module": "@jupyter-widgets/base",
            "_view_module_version": "1.2.0",
            "_view_name": "LayoutView",
            "align_content": null,
            "align_items": null,
            "align_self": null,
            "border": null,
            "bottom": null,
            "display": null,
            "flex": null,
            "flex_flow": null,
            "grid_area": null,
            "grid_auto_columns": null,
            "grid_auto_flow": null,
            "grid_auto_rows": null,
            "grid_column": null,
            "grid_gap": null,
            "grid_row": null,
            "grid_template_areas": null,
            "grid_template_columns": null,
            "grid_template_rows": null,
            "height": null,
            "justify_content": null,
            "justify_items": null,
            "left": null,
            "margin": null,
            "max_height": null,
            "max_width": null,
            "min_height": null,
            "min_width": null,
            "object_fit": null,
            "object_position": null,
            "order": null,
            "overflow": null,
            "overflow_x": null,
            "overflow_y": null,
            "padding": null,
            "right": null,
            "top": null,
            "visibility": null,
            "width": null
          }
        },
        "6067fdf7c0b1445cb2c4e9c3efd9ef00": {
          "model_module": "@jupyter-widgets/controls",
          "model_name": "DescriptionStyleModel",
          "model_module_version": "1.5.0",
          "state": {
            "_model_module": "@jupyter-widgets/controls",
            "_model_module_version": "1.5.0",
            "_model_name": "DescriptionStyleModel",
            "_view_count": null,
            "_view_module": "@jupyter-widgets/base",
            "_view_module_version": "1.2.0",
            "_view_name": "StyleView",
            "description_width": ""
          }
        },
        "08324a24414347b7b34b368a08b56927": {
          "model_module": "@jupyter-widgets/controls",
          "model_name": "HBoxModel",
          "model_module_version": "1.5.0",
          "state": {
            "_dom_classes": [],
            "_model_module": "@jupyter-widgets/controls",
            "_model_module_version": "1.5.0",
            "_model_name": "HBoxModel",
            "_view_count": null,
            "_view_module": "@jupyter-widgets/controls",
            "_view_module_version": "1.5.0",
            "_view_name": "HBoxView",
            "box_style": "",
            "children": [
              "IPY_MODEL_6c49f38d86e04b7fb7b1b5f221da5c1d",
              "IPY_MODEL_90d5fe82f71047b2a4c99c1cf29878dc",
              "IPY_MODEL_d03b5fea481a485d850a8f91334440d3"
            ],
            "layout": "IPY_MODEL_07a5daac74fc40279fe20e2383ff9494"
          }
        },
        "6c49f38d86e04b7fb7b1b5f221da5c1d": {
          "model_module": "@jupyter-widgets/controls",
          "model_name": "HTMLModel",
          "model_module_version": "1.5.0",
          "state": {
            "_dom_classes": [],
            "_model_module": "@jupyter-widgets/controls",
            "_model_module_version": "1.5.0",
            "_model_name": "HTMLModel",
            "_view_count": null,
            "_view_module": "@jupyter-widgets/controls",
            "_view_module_version": "1.5.0",
            "_view_name": "HTMLView",
            "description": "",
            "description_tooltip": null,
            "layout": "IPY_MODEL_99768866d8e14c1cb52c37fde27827f2",
            "placeholder": "​",
            "style": "IPY_MODEL_d9ada97ca8ca4338bf9f992463c80249",
            "value": "100%"
          }
        },
        "90d5fe82f71047b2a4c99c1cf29878dc": {
          "model_module": "@jupyter-widgets/controls",
          "model_name": "FloatProgressModel",
          "model_module_version": "1.5.0",
          "state": {
            "_dom_classes": [],
            "_model_module": "@jupyter-widgets/controls",
            "_model_module_version": "1.5.0",
            "_model_name": "FloatProgressModel",
            "_view_count": null,
            "_view_module": "@jupyter-widgets/controls",
            "_view_module_version": "1.5.0",
            "_view_name": "ProgressView",
            "bar_style": "success",
            "description": "",
            "description_tooltip": null,
            "layout": "IPY_MODEL_a5596d8ade3742e29c9fe7db544ad27a",
            "max": 10000,
            "min": 0,
            "orientation": "horizontal",
            "style": "IPY_MODEL_29def8cf82c24501b84ff775660bc01b",
            "value": 10000
          }
        },
        "d03b5fea481a485d850a8f91334440d3": {
          "model_module": "@jupyter-widgets/controls",
          "model_name": "HTMLModel",
          "model_module_version": "1.5.0",
          "state": {
            "_dom_classes": [],
            "_model_module": "@jupyter-widgets/controls",
            "_model_module_version": "1.5.0",
            "_model_name": "HTMLModel",
            "_view_count": null,
            "_view_module": "@jupyter-widgets/controls",
            "_view_module_version": "1.5.0",
            "_view_name": "HTMLView",
            "description": "",
            "description_tooltip": null,
            "layout": "IPY_MODEL_918d3a6fe37047478cadf024d2924f5b",
            "placeholder": "​",
            "style": "IPY_MODEL_4db17cc6cb8448d199566fa7daa536cb",
            "value": " 10000/10000 [00:54&lt;00:00, 197.60it/s]"
          }
        },
        "07a5daac74fc40279fe20e2383ff9494": {
          "model_module": "@jupyter-widgets/base",
          "model_name": "LayoutModel",
          "model_module_version": "1.2.0",
          "state": {
            "_model_module": "@jupyter-widgets/base",
            "_model_module_version": "1.2.0",
            "_model_name": "LayoutModel",
            "_view_count": null,
            "_view_module": "@jupyter-widgets/base",
            "_view_module_version": "1.2.0",
            "_view_name": "LayoutView",
            "align_content": null,
            "align_items": null,
            "align_self": null,
            "border": null,
            "bottom": null,
            "display": null,
            "flex": null,
            "flex_flow": null,
            "grid_area": null,
            "grid_auto_columns": null,
            "grid_auto_flow": null,
            "grid_auto_rows": null,
            "grid_column": null,
            "grid_gap": null,
            "grid_row": null,
            "grid_template_areas": null,
            "grid_template_columns": null,
            "grid_template_rows": null,
            "height": null,
            "justify_content": null,
            "justify_items": null,
            "left": null,
            "margin": null,
            "max_height": null,
            "max_width": null,
            "min_height": null,
            "min_width": null,
            "object_fit": null,
            "object_position": null,
            "order": null,
            "overflow": null,
            "overflow_x": null,
            "overflow_y": null,
            "padding": null,
            "right": null,
            "top": null,
            "visibility": null,
            "width": null
          }
        },
        "99768866d8e14c1cb52c37fde27827f2": {
          "model_module": "@jupyter-widgets/base",
          "model_name": "LayoutModel",
          "model_module_version": "1.2.0",
          "state": {
            "_model_module": "@jupyter-widgets/base",
            "_model_module_version": "1.2.0",
            "_model_name": "LayoutModel",
            "_view_count": null,
            "_view_module": "@jupyter-widgets/base",
            "_view_module_version": "1.2.0",
            "_view_name": "LayoutView",
            "align_content": null,
            "align_items": null,
            "align_self": null,
            "border": null,
            "bottom": null,
            "display": null,
            "flex": null,
            "flex_flow": null,
            "grid_area": null,
            "grid_auto_columns": null,
            "grid_auto_flow": null,
            "grid_auto_rows": null,
            "grid_column": null,
            "grid_gap": null,
            "grid_row": null,
            "grid_template_areas": null,
            "grid_template_columns": null,
            "grid_template_rows": null,
            "height": null,
            "justify_content": null,
            "justify_items": null,
            "left": null,
            "margin": null,
            "max_height": null,
            "max_width": null,
            "min_height": null,
            "min_width": null,
            "object_fit": null,
            "object_position": null,
            "order": null,
            "overflow": null,
            "overflow_x": null,
            "overflow_y": null,
            "padding": null,
            "right": null,
            "top": null,
            "visibility": null,
            "width": null
          }
        },
        "d9ada97ca8ca4338bf9f992463c80249": {
          "model_module": "@jupyter-widgets/controls",
          "model_name": "DescriptionStyleModel",
          "model_module_version": "1.5.0",
          "state": {
            "_model_module": "@jupyter-widgets/controls",
            "_model_module_version": "1.5.0",
            "_model_name": "DescriptionStyleModel",
            "_view_count": null,
            "_view_module": "@jupyter-widgets/base",
            "_view_module_version": "1.2.0",
            "_view_name": "StyleView",
            "description_width": ""
          }
        },
        "a5596d8ade3742e29c9fe7db544ad27a": {
          "model_module": "@jupyter-widgets/base",
          "model_name": "LayoutModel",
          "model_module_version": "1.2.0",
          "state": {
            "_model_module": "@jupyter-widgets/base",
            "_model_module_version": "1.2.0",
            "_model_name": "LayoutModel",
            "_view_count": null,
            "_view_module": "@jupyter-widgets/base",
            "_view_module_version": "1.2.0",
            "_view_name": "LayoutView",
            "align_content": null,
            "align_items": null,
            "align_self": null,
            "border": null,
            "bottom": null,
            "display": null,
            "flex": null,
            "flex_flow": null,
            "grid_area": null,
            "grid_auto_columns": null,
            "grid_auto_flow": null,
            "grid_auto_rows": null,
            "grid_column": null,
            "grid_gap": null,
            "grid_row": null,
            "grid_template_areas": null,
            "grid_template_columns": null,
            "grid_template_rows": null,
            "height": null,
            "justify_content": null,
            "justify_items": null,
            "left": null,
            "margin": null,
            "max_height": null,
            "max_width": null,
            "min_height": null,
            "min_width": null,
            "object_fit": null,
            "object_position": null,
            "order": null,
            "overflow": null,
            "overflow_x": null,
            "overflow_y": null,
            "padding": null,
            "right": null,
            "top": null,
            "visibility": null,
            "width": null
          }
        },
        "29def8cf82c24501b84ff775660bc01b": {
          "model_module": "@jupyter-widgets/controls",
          "model_name": "ProgressStyleModel",
          "model_module_version": "1.5.0",
          "state": {
            "_model_module": "@jupyter-widgets/controls",
            "_model_module_version": "1.5.0",
            "_model_name": "ProgressStyleModel",
            "_view_count": null,
            "_view_module": "@jupyter-widgets/base",
            "_view_module_version": "1.2.0",
            "_view_name": "StyleView",
            "bar_color": null,
            "description_width": ""
          }
        },
        "918d3a6fe37047478cadf024d2924f5b": {
          "model_module": "@jupyter-widgets/base",
          "model_name": "LayoutModel",
          "model_module_version": "1.2.0",
          "state": {
            "_model_module": "@jupyter-widgets/base",
            "_model_module_version": "1.2.0",
            "_model_name": "LayoutModel",
            "_view_count": null,
            "_view_module": "@jupyter-widgets/base",
            "_view_module_version": "1.2.0",
            "_view_name": "LayoutView",
            "align_content": null,
            "align_items": null,
            "align_self": null,
            "border": null,
            "bottom": null,
            "display": null,
            "flex": null,
            "flex_flow": null,
            "grid_area": null,
            "grid_auto_columns": null,
            "grid_auto_flow": null,
            "grid_auto_rows": null,
            "grid_column": null,
            "grid_gap": null,
            "grid_row": null,
            "grid_template_areas": null,
            "grid_template_columns": null,
            "grid_template_rows": null,
            "height": null,
            "justify_content": null,
            "justify_items": null,
            "left": null,
            "margin": null,
            "max_height": null,
            "max_width": null,
            "min_height": null,
            "min_width": null,
            "object_fit": null,
            "object_position": null,
            "order": null,
            "overflow": null,
            "overflow_x": null,
            "overflow_y": null,
            "padding": null,
            "right": null,
            "top": null,
            "visibility": null,
            "width": null
          }
        },
        "4db17cc6cb8448d199566fa7daa536cb": {
          "model_module": "@jupyter-widgets/controls",
          "model_name": "DescriptionStyleModel",
          "model_module_version": "1.5.0",
          "state": {
            "_model_module": "@jupyter-widgets/controls",
            "_model_module_version": "1.5.0",
            "_model_name": "DescriptionStyleModel",
            "_view_count": null,
            "_view_module": "@jupyter-widgets/base",
            "_view_module_version": "1.2.0",
            "_view_name": "StyleView",
            "description_width": ""
          }
        },
        "35f2cfde4ed446f6a366474c951e27e4": {
          "model_module": "@jupyter-widgets/controls",
          "model_name": "HBoxModel",
          "model_module_version": "1.5.0",
          "state": {
            "_dom_classes": [],
            "_model_module": "@jupyter-widgets/controls",
            "_model_module_version": "1.5.0",
            "_model_name": "HBoxModel",
            "_view_count": null,
            "_view_module": "@jupyter-widgets/controls",
            "_view_module_version": "1.5.0",
            "_view_name": "HBoxView",
            "box_style": "",
            "children": [
              "IPY_MODEL_f2e53a41c8d740b6946da108ffe6f118",
              "IPY_MODEL_bf258f5745bf46a59ec11f5eed106507",
              "IPY_MODEL_1463e69a65744579bcfcff063404ec27"
            ],
            "layout": "IPY_MODEL_9cde7c8b1cfb4b53aab70f76f46f8bea"
          }
        },
        "f2e53a41c8d740b6946da108ffe6f118": {
          "model_module": "@jupyter-widgets/controls",
          "model_name": "HTMLModel",
          "model_module_version": "1.5.0",
          "state": {
            "_dom_classes": [],
            "_model_module": "@jupyter-widgets/controls",
            "_model_module_version": "1.5.0",
            "_model_name": "HTMLModel",
            "_view_count": null,
            "_view_module": "@jupyter-widgets/controls",
            "_view_module_version": "1.5.0",
            "_view_name": "HTMLView",
            "description": "",
            "description_tooltip": null,
            "layout": "IPY_MODEL_e6ad68d2be1c42878bd6b1a943f10124",
            "placeholder": "​",
            "style": "IPY_MODEL_d6f10ab20c7a4be99f8c3f933b8c7797",
            "value": "100%"
          }
        },
        "bf258f5745bf46a59ec11f5eed106507": {
          "model_module": "@jupyter-widgets/controls",
          "model_name": "FloatProgressModel",
          "model_module_version": "1.5.0",
          "state": {
            "_dom_classes": [],
            "_model_module": "@jupyter-widgets/controls",
            "_model_module_version": "1.5.0",
            "_model_name": "FloatProgressModel",
            "_view_count": null,
            "_view_module": "@jupyter-widgets/controls",
            "_view_module_version": "1.5.0",
            "_view_name": "ProgressView",
            "bar_style": "success",
            "description": "",
            "description_tooltip": null,
            "layout": "IPY_MODEL_3bf0eef9c4944a6fb0b8e4e9c881ee0d",
            "max": 10000,
            "min": 0,
            "orientation": "horizontal",
            "style": "IPY_MODEL_0a22a17016b04b61baa30a1d393f17a8",
            "value": 10000
          }
        },
        "1463e69a65744579bcfcff063404ec27": {
          "model_module": "@jupyter-widgets/controls",
          "model_name": "HTMLModel",
          "model_module_version": "1.5.0",
          "state": {
            "_dom_classes": [],
            "_model_module": "@jupyter-widgets/controls",
            "_model_module_version": "1.5.0",
            "_model_name": "HTMLModel",
            "_view_count": null,
            "_view_module": "@jupyter-widgets/controls",
            "_view_module_version": "1.5.0",
            "_view_name": "HTMLView",
            "description": "",
            "description_tooltip": null,
            "layout": "IPY_MODEL_79805bc050ac44bf82ffd0a025ebf162",
            "placeholder": "​",
            "style": "IPY_MODEL_38144136a32e4cb890e88502b48eb601",
            "value": " 10000/10000 [00:55&lt;00:00, 189.76it/s]"
          }
        },
        "9cde7c8b1cfb4b53aab70f76f46f8bea": {
          "model_module": "@jupyter-widgets/base",
          "model_name": "LayoutModel",
          "model_module_version": "1.2.0",
          "state": {
            "_model_module": "@jupyter-widgets/base",
            "_model_module_version": "1.2.0",
            "_model_name": "LayoutModel",
            "_view_count": null,
            "_view_module": "@jupyter-widgets/base",
            "_view_module_version": "1.2.0",
            "_view_name": "LayoutView",
            "align_content": null,
            "align_items": null,
            "align_self": null,
            "border": null,
            "bottom": null,
            "display": null,
            "flex": null,
            "flex_flow": null,
            "grid_area": null,
            "grid_auto_columns": null,
            "grid_auto_flow": null,
            "grid_auto_rows": null,
            "grid_column": null,
            "grid_gap": null,
            "grid_row": null,
            "grid_template_areas": null,
            "grid_template_columns": null,
            "grid_template_rows": null,
            "height": null,
            "justify_content": null,
            "justify_items": null,
            "left": null,
            "margin": null,
            "max_height": null,
            "max_width": null,
            "min_height": null,
            "min_width": null,
            "object_fit": null,
            "object_position": null,
            "order": null,
            "overflow": null,
            "overflow_x": null,
            "overflow_y": null,
            "padding": null,
            "right": null,
            "top": null,
            "visibility": null,
            "width": null
          }
        },
        "e6ad68d2be1c42878bd6b1a943f10124": {
          "model_module": "@jupyter-widgets/base",
          "model_name": "LayoutModel",
          "model_module_version": "1.2.0",
          "state": {
            "_model_module": "@jupyter-widgets/base",
            "_model_module_version": "1.2.0",
            "_model_name": "LayoutModel",
            "_view_count": null,
            "_view_module": "@jupyter-widgets/base",
            "_view_module_version": "1.2.0",
            "_view_name": "LayoutView",
            "align_content": null,
            "align_items": null,
            "align_self": null,
            "border": null,
            "bottom": null,
            "display": null,
            "flex": null,
            "flex_flow": null,
            "grid_area": null,
            "grid_auto_columns": null,
            "grid_auto_flow": null,
            "grid_auto_rows": null,
            "grid_column": null,
            "grid_gap": null,
            "grid_row": null,
            "grid_template_areas": null,
            "grid_template_columns": null,
            "grid_template_rows": null,
            "height": null,
            "justify_content": null,
            "justify_items": null,
            "left": null,
            "margin": null,
            "max_height": null,
            "max_width": null,
            "min_height": null,
            "min_width": null,
            "object_fit": null,
            "object_position": null,
            "order": null,
            "overflow": null,
            "overflow_x": null,
            "overflow_y": null,
            "padding": null,
            "right": null,
            "top": null,
            "visibility": null,
            "width": null
          }
        },
        "d6f10ab20c7a4be99f8c3f933b8c7797": {
          "model_module": "@jupyter-widgets/controls",
          "model_name": "DescriptionStyleModel",
          "model_module_version": "1.5.0",
          "state": {
            "_model_module": "@jupyter-widgets/controls",
            "_model_module_version": "1.5.0",
            "_model_name": "DescriptionStyleModel",
            "_view_count": null,
            "_view_module": "@jupyter-widgets/base",
            "_view_module_version": "1.2.0",
            "_view_name": "StyleView",
            "description_width": ""
          }
        },
        "3bf0eef9c4944a6fb0b8e4e9c881ee0d": {
          "model_module": "@jupyter-widgets/base",
          "model_name": "LayoutModel",
          "model_module_version": "1.2.0",
          "state": {
            "_model_module": "@jupyter-widgets/base",
            "_model_module_version": "1.2.0",
            "_model_name": "LayoutModel",
            "_view_count": null,
            "_view_module": "@jupyter-widgets/base",
            "_view_module_version": "1.2.0",
            "_view_name": "LayoutView",
            "align_content": null,
            "align_items": null,
            "align_self": null,
            "border": null,
            "bottom": null,
            "display": null,
            "flex": null,
            "flex_flow": null,
            "grid_area": null,
            "grid_auto_columns": null,
            "grid_auto_flow": null,
            "grid_auto_rows": null,
            "grid_column": null,
            "grid_gap": null,
            "grid_row": null,
            "grid_template_areas": null,
            "grid_template_columns": null,
            "grid_template_rows": null,
            "height": null,
            "justify_content": null,
            "justify_items": null,
            "left": null,
            "margin": null,
            "max_height": null,
            "max_width": null,
            "min_height": null,
            "min_width": null,
            "object_fit": null,
            "object_position": null,
            "order": null,
            "overflow": null,
            "overflow_x": null,
            "overflow_y": null,
            "padding": null,
            "right": null,
            "top": null,
            "visibility": null,
            "width": null
          }
        },
        "0a22a17016b04b61baa30a1d393f17a8": {
          "model_module": "@jupyter-widgets/controls",
          "model_name": "ProgressStyleModel",
          "model_module_version": "1.5.0",
          "state": {
            "_model_module": "@jupyter-widgets/controls",
            "_model_module_version": "1.5.0",
            "_model_name": "ProgressStyleModel",
            "_view_count": null,
            "_view_module": "@jupyter-widgets/base",
            "_view_module_version": "1.2.0",
            "_view_name": "StyleView",
            "bar_color": null,
            "description_width": ""
          }
        },
        "79805bc050ac44bf82ffd0a025ebf162": {
          "model_module": "@jupyter-widgets/base",
          "model_name": "LayoutModel",
          "model_module_version": "1.2.0",
          "state": {
            "_model_module": "@jupyter-widgets/base",
            "_model_module_version": "1.2.0",
            "_model_name": "LayoutModel",
            "_view_count": null,
            "_view_module": "@jupyter-widgets/base",
            "_view_module_version": "1.2.0",
            "_view_name": "LayoutView",
            "align_content": null,
            "align_items": null,
            "align_self": null,
            "border": null,
            "bottom": null,
            "display": null,
            "flex": null,
            "flex_flow": null,
            "grid_area": null,
            "grid_auto_columns": null,
            "grid_auto_flow": null,
            "grid_auto_rows": null,
            "grid_column": null,
            "grid_gap": null,
            "grid_row": null,
            "grid_template_areas": null,
            "grid_template_columns": null,
            "grid_template_rows": null,
            "height": null,
            "justify_content": null,
            "justify_items": null,
            "left": null,
            "margin": null,
            "max_height": null,
            "max_width": null,
            "min_height": null,
            "min_width": null,
            "object_fit": null,
            "object_position": null,
            "order": null,
            "overflow": null,
            "overflow_x": null,
            "overflow_y": null,
            "padding": null,
            "right": null,
            "top": null,
            "visibility": null,
            "width": null
          }
        },
        "38144136a32e4cb890e88502b48eb601": {
          "model_module": "@jupyter-widgets/controls",
          "model_name": "DescriptionStyleModel",
          "model_module_version": "1.5.0",
          "state": {
            "_model_module": "@jupyter-widgets/controls",
            "_model_module_version": "1.5.0",
            "_model_name": "DescriptionStyleModel",
            "_view_count": null,
            "_view_module": "@jupyter-widgets/base",
            "_view_module_version": "1.2.0",
            "_view_name": "StyleView",
            "description_width": ""
          }
        }
      }
    }
  },
  "cells": [
    {
      "cell_type": "markdown",
      "metadata": {
        "id": "view-in-github",
        "colab_type": "text"
      },
      "source": [
        "<a href=\"https://colab.research.google.com/github/kiwi-b/PythonReview2/blob/master/DSL_Lab_6.ipynb\" target=\"_parent\"><img src=\"https://colab.research.google.com/assets/colab-badge.svg\" alt=\"Open In Colab\"/></a>"
      ]
    },
    {
      "cell_type": "markdown",
      "source": [
        "Kiwi Randolph, Justin Chung, Charlie Dewitt, Cole Berkley"
      ],
      "metadata": {
        "id": "HKoldjE5eR9d"
      }
    },
    {
      "cell_type": "markdown",
      "source": [
        "# Data Science Lab: Lab 6\n",
        "\n",
        "Submit:\n",
        "\n",
        "A pdf of your notebook with solutions.\n",
        "A link to your colab notebook or also upload your .ipynb if not working on colab.\n",
        "\n",
        "# Goals of this Lab\n",
        "\n",
        "**Fully Connected Models and XOR**\n",
        "\n",
        "\n",
        "1. How to create data objects that pytorch can use\n",
        "2. How to create a dataloader\n",
        "3. How to define a basic fully connected single layer model\n",
        "4. How to define a multi-layer fully connected model\n",
        "5. How to add non-linear activation functions.\n",
        "6. How to add layers in two different ways\n",
        "\n",
        "We also see the importance of nonlinear activation functions directly, by experimenting with the simple 4-data-point XOR example that we saw in class.\n"
      ],
      "metadata": {
        "id": "vMQXDZXXN8q2"
      }
    },
    {
      "cell_type": "code",
      "execution_count": null,
      "metadata": {
        "id": "T6k-hagH8H0l",
        "colab": {
          "base_uri": "https://localhost:8080/"
        },
        "outputId": "4f38fbd7-9b57-4b83-9ed7-584fbfc29274"
      },
      "outputs": [
        {
          "output_type": "execute_result",
          "data": {
            "text/plain": [
              "<torch._C.Generator at 0x7a14d40a1710>"
            ]
          },
          "metadata": {},
          "execution_count": 1
        }
      ],
      "source": [
        "import torch\n",
        "import numpy as np\n",
        "import time\n",
        "from tqdm.notebook import tqdm\n",
        "torch.manual_seed(2)\n"
      ]
    },
    {
      "cell_type": "markdown",
      "source": [
        "# First we define a linear regressor.\n",
        "This is the same as a fully connected layer. It will be a building block in making deeper neural networks with fully connected layers."
      ],
      "metadata": {
        "id": "-LLf1qGBkNx4"
      }
    },
    {
      "cell_type": "code",
      "source": [
        "# We define our first class: LinearRegressor\n",
        "#\n",
        "class LinearRegressor(torch.nn.Module):\n",
        "    def __init__(self, input_dim, output_dim):\n",
        "        \"\"\"\n",
        "        Define the layer(s) needed for the linear model.\n",
        "        \"\"\"\n",
        "        super().__init__()\n",
        "        self.linear = torch.nn.Linear(input_dim, output_dim, bias = True) # just linear\n",
        "\n",
        "    def forward(self, x):\n",
        "        \"\"\"\n",
        "        Calculate the regression score (MSE).\n",
        "\n",
        "        Input:\n",
        "            x (float tensor N x d): input rows\n",
        "        Output:\n",
        "            y (float tensor N x 1): regression output\n",
        "        \"\"\"\n",
        "        x = self.linear(x)\n",
        "        return torch.flatten(x)\n",
        "\n",
        "\n",
        "    # defining a separate predict function is useful for multi-class\n",
        "    # classification as we will see later. Here it is\n",
        "    # unnecessary.\n",
        "\n",
        "    def predict(self, x):\n",
        "        \"\"\"\n",
        "        Predict the regression label of the input vector.\n",
        "\n",
        "        Input:\n",
        "            x (float tensor N X d): input images\n",
        "        Output:\n",
        "            y (float tensor N x 1): regression output\n",
        "        \"\"\"\n",
        "        x = self.linear(x)\n",
        "        return torch.flatten(x)\n",
        "\n",
        "\n"
      ],
      "metadata": {
        "id": "5ikI4E7WXrCQ"
      },
      "execution_count": null,
      "outputs": []
    },
    {
      "cell_type": "markdown",
      "source": [
        "## Problem 1:\n",
        "\n",
        "Now you will use torch.nn.Sequential (see https://pytorch.org/docs/stable/generated/torch.nn.Sequential.html) to construct a two layer neural network, with two fully connected layers (no non-linearity yet). Thus, you will combine torch.nn.Sequential with torch.nn.Linear that you saw above.\n",
        "\n",
        "\n",
        "Design your network so that the first layer has as many neurons as the input.\n",
        "\n",
        "Note: you have only one line to fill in here."
      ],
      "metadata": {
        "id": "36zhuTCUkZXT"
      }
    },
    {
      "cell_type": "code",
      "source": [
        "class TwoLayerLinearRegressor(torch.nn.Module):\n",
        "    def __init__(self, input_dim, output_dim):\n",
        "        \"\"\"\n",
        "        Define a model that stacks two linear fully connected layers.\n",
        "        \"\"\"\n",
        "        super().__init__()\n",
        "        self.TLL = torch.nn.Sequential(torch.nn.Linear(input_dim, input_dim, bias = True), torch.nn.Linear(input_dim, output_dim, bias=True))\n",
        "\n",
        "    def forward(self, x):\n",
        "        \"\"\"\n",
        "        Calculate the regression score (MSE).\n",
        "\n",
        "        Input:\n",
        "            x (float tensor N x d): input rows\n",
        "        Output:\n",
        "            y (float tensor N x 1): regression output\n",
        "        \"\"\"\n",
        "        x = self.TLL(x)\n",
        "        return torch.flatten(x)\n",
        "\n",
        "    def predict(self, x):\n",
        "        \"\"\"\n",
        "        Predict the regression label of the input vector.\n",
        "\n",
        "        Input:\n",
        "            x (float tensor N X d): input images\n",
        "        Output:\n",
        "            y (float tensor N x 1): regression output\n",
        "        \"\"\"\n",
        "        x = self.TLL(x)\n",
        "        return torch.flatten(x)\n",
        "\n",
        "\n",
        "\n",
        "\n"
      ],
      "metadata": {
        "id": "0LpZdyIOjlr4"
      },
      "execution_count": null,
      "outputs": []
    },
    {
      "cell_type": "markdown",
      "source": [
        "## Problem 2\n",
        "\n",
        "Now you will create the same network, but using different syntax: you will not use torch.nn.Sequential. You need to fill in the two lines as noted by the comments."
      ],
      "metadata": {
        "id": "A9JRe7K3lQx7"
      }
    },
    {
      "cell_type": "code",
      "source": [
        "class TwoLayerLinearRegressor2(torch.nn.Module):\n",
        "    def __init__(self, input_dim, output_dim):\n",
        "        \"\"\"\n",
        "        Define a model that stacks two linear fully connected layers.\n",
        "        \"\"\"\n",
        "        super().__init__()\n",
        "        self.fc1 = torch.nn.Linear(input_dim, input_dim, bias = True)\n",
        "        self.fc2 = torch.nn.Linear(input_dim, output_dim, bias = True)\n",
        "\n",
        "    def forward(self, x):\n",
        "        \"\"\"\n",
        "        Calculate the regression score (MSE).\n",
        "\n",
        "        Input:\n",
        "            x (float tensor N x d): input rows\n",
        "        Output:\n",
        "            y (float tensor N x 1): regression output\n",
        "        \"\"\"\n",
        "\n",
        "        x = self.fc1(x)\n",
        "        x = self.fc2(x)\n",
        "        return torch.flatten(x)\n",
        "\n",
        "    def predict(self, x):\n",
        "        \"\"\"\n",
        "        Predict the regression label of the input vector.\n",
        "\n",
        "        Input:\n",
        "            x (float tensor N X d): input images\n",
        "        Output:\n",
        "            y (float tensor N x 1): regression output\n",
        "        \"\"\"\n",
        "        x = self.fc1(x)\n",
        "        x = self.fc2(x)\n",
        "        return torch.flatten(x)\n"
      ],
      "metadata": {
        "id": "vZSpFBJdj-Da"
      },
      "execution_count": null,
      "outputs": []
    },
    {
      "cell_type": "markdown",
      "source": [
        "## Problem 3\n",
        "\n",
        "Now you will define a 2 layer neural network with ReLU activation at the first layer. In other words:\n",
        "\n",
        "Let $x$ be the input.\n",
        "Then writing $z = Wx + c$, $h=$ReLU$(z)$ is the first layer's neurons. Then the output is $y = w\\cdot z+d$.\n",
        "\n",
        "Create this neural network using the torch.nn.Sequential command. Conceptually, it may help to realize that this neural network is: a fully connected layer followed by a ReLU, followed by a fully connected layer.\n",
        "\n",
        "Also see: https://pytorch.org/docs/stable/generated/torch.nn.ReLU.html\n",
        "\n",
        "Note: You have only one line to fill in here."
      ],
      "metadata": {
        "id": "pTKDb01ilnks"
      }
    },
    {
      "cell_type": "code",
      "source": [
        "class TwoLayerNonLinearRegressor(torch.nn.Module):\n",
        "    def __init__(self, input_dim, output_dim):\n",
        "        \"\"\"\n",
        "        Define a model that has a linear layer, a ReLU layer and another linear layer.\n",
        "        \"\"\"\n",
        "        super().__init__()\n",
        "        self.linear = torch.nn.Sequential(torch.nn.Linear(input_dim, input_dim, bias=True),\n",
        "                                          torch.nn.ReLU(),\n",
        "                                          torch.nn.Linear(input_dim, output_dim, bias=True))\n",
        "\n",
        "    def forward(self, x):\n",
        "        \"\"\"\n",
        "        Calculate the regression score (MSE).\n",
        "\n",
        "        Input:\n",
        "            x (float tensor N x d): input rows\n",
        "        Output:\n",
        "            y (float tensor N x 1): regression output\n",
        "        \"\"\"\n",
        "        x = self.linear(x)\n",
        "        return torch.flatten(x)\n",
        "\n",
        "    def predict(self, x):\n",
        "        \"\"\"\n",
        "        Predict the regression label of the input vector.\n",
        "\n",
        "        Input:\n",
        "            x (float tensor N X d): input images\n",
        "        Output:\n",
        "            y (float tensor N x 1): regression output\n",
        "        \"\"\"\n",
        "        x = self.linear(x)\n",
        "        return torch.flatten(x)\n",
        "\n"
      ],
      "metadata": {
        "id": "031WUqCajrJ_"
      },
      "execution_count": null,
      "outputs": []
    },
    {
      "cell_type": "markdown",
      "source": [
        "## Problem 4\n",
        "\n",
        "Do this one more time, but now without torch.nn.Sequential.\n",
        "\n",
        "You have three lines to fill in here."
      ],
      "metadata": {
        "id": "ApkXVRwfmaXj"
      }
    },
    {
      "cell_type": "code",
      "source": [
        "# We now do this again, without using nn.sequential\n",
        "# in order to illustrate different syntax.\n",
        "\n",
        "class TwoLayerNonLinearRegressor2(torch.nn.Module):\n",
        "    def __init__(self, input_dim, output_dim):\n",
        "        \"\"\"\n",
        "        Define a model that has a linear layer, a ReLU layer and another linear layer.\n",
        "        \"\"\"\n",
        "        super().__init__()\n",
        "        self.fc1 = torch.nn.Linear(input_dim, input_dim, bias=True)\n",
        "        self.relu = torch.nn.ReLU()\n",
        "        self.fc2 = torch.nn.Linear(input_dim, output_dim, bias = True)\n",
        "\n",
        "    def forward(self, x):\n",
        "        \"\"\"\n",
        "        Calculate the regression score (MSE).\n",
        "\n",
        "        Input:\n",
        "            x (float tensor N x d): input rows\n",
        "        Output:\n",
        "            y (float tensor N x 1): regression output\n",
        "        \"\"\"\n",
        "\n",
        "        x = self.fc1(x)\n",
        "        x = self.relu(x)\n",
        "        x = self.fc2(x)\n",
        "        return torch.flatten(x)\n",
        "\n",
        "    def predict(self, x):\n",
        "        \"\"\"\n",
        "        Predict the regression label of the input vector.\n",
        "\n",
        "        Input:\n",
        "            x (float tensor N X d): input images\n",
        "        Output:\n",
        "            y (float tensor N x 1): regression output\n",
        "        \"\"\"\n",
        "        x = self.fc1(x)\n",
        "        x = self.relu(x)\n",
        "        x = self.fc2(x)\n",
        "        return torch.flatten(x)"
      ],
      "metadata": {
        "id": "W7CrOFr8jtdp"
      },
      "execution_count": null,
      "outputs": []
    },
    {
      "cell_type": "markdown",
      "source": [
        "## Problem 5 (Nothing to turn in)\n",
        "\n",
        "Read the documentation https://pytorch.org/docs/stable/optim.html to see what are the options pytorch provides for an optimizer, and what the parameters are."
      ],
      "metadata": {
        "id": "7-7v8qRLmk3b"
      }
    },
    {
      "cell_type": "markdown",
      "source": [
        "## Problem 6\n",
        "\n",
        "Explain what the code\n",
        "\n",
        "\n",
        "```\n",
        "device = torch.device('cuda' if torch.cuda.is_available() else 'cpu')\n",
        "```\n",
        "and\n",
        "\n",
        "\n",
        "```\n",
        "model.to(device)\n",
        "x = x.to(device)\n",
        "y = y.to(device)\n",
        "```\n",
        "\n",
        "does. This does not have to be a completely rigorous definition -- just explain enough to make clear that you understand what the code is doing and why it's important.\n",
        "\n"
      ],
      "metadata": {
        "id": "-oYjzlVqve2K"
      }
    },
    {
      "cell_type": "markdown",
      "source": [
        "##ANSWER: This code initializes a new CUDA device if availible or if not availible sets the device to the CPU. This means that the following tensors (model, x, y) will be ran on this device whether the CUDA device is availible or not. This is important when trying to run tensors on a GPU instead of a CPU."
      ],
      "metadata": {
        "id": "wui6Sl20d441"
      }
    },
    {
      "cell_type": "code",
      "source": [
        "# Now we define a function for training\n",
        "# Note each of the arguments that it takes\n",
        "\n",
        "def train(model, data_train, data_val, device, lr=0.1, epochs=10000):\n",
        "    \"\"\"\n",
        "    Train the model.\n",
        "\n",
        "    Input:\n",
        "      model (torch.nn.Module): the model to train\n",
        "      data_train (torch.utils.data.Dataloader): yields batches of data\n",
        "      data_val (torch.utils.data.Dataloader): use this to validate your model\n",
        "      device (torch.device): which device to use to perform computation\n",
        "\n",
        "      (optional) lr: learning rate hyperparameter\n",
        "      (optional) epochs: number of passes over dataloader\n",
        "    \"\"\"\n",
        "\n",
        "    # Setup the loss function to use: mean squared error\n",
        "    loss_function = torch.nn.MSELoss(reduction = 'sum')\n",
        "\n",
        "    torch.manual_seed(0)\n",
        "\n",
        "    # Setup the optimizer -- just generic ADAM\n",
        "    optimizer = torch.optim.Adam(model.parameters(), lr=lr)\n",
        "\n",
        "    # Wrap in a progress bar.\n",
        "    for epoch in tqdm(range(epochs)):\n",
        "        # Set the model to training mode.\n",
        "        model.train()\n",
        "\n",
        "        for x, y in data_train:\n",
        "            x = x.to(device)\n",
        "            y = y.to(device)\n",
        "\n",
        "            # Forward pass through the network\n",
        "            output = model(x)\n",
        "\n",
        "            # Compute loss\n",
        "            loss = loss_function(output, y)\n",
        "\n",
        "            # update model weights.\n",
        "            optimizer.zero_grad()\n",
        "            loss.backward()\n",
        "            optimizer.step()\n",
        "\n",
        "        # Set the model to eval mode and compute accuracy.\n",
        "        model.eval()\n",
        "\n",
        "        accuracys_val = list()\n",
        "\n",
        "        for x, y in data_val:\n",
        "            x = x.to(device)\n",
        "            y = y.to(device)\n",
        "\n",
        "            y_pred = model.predict(x)"
      ],
      "metadata": {
        "id": "-gYODAFizPe-"
      },
      "execution_count": null,
      "outputs": []
    },
    {
      "cell_type": "code",
      "source": [
        "# We write a function that takes a model, evaluate on the validation\n",
        "# data set and returns the predictions\n",
        "\n",
        "def evaluate_model(model,data_val,device):\n",
        "  model.eval()\n",
        "  output_vals = list()\n",
        "  accuracys_val = list()\n",
        "  for x, y in data_val:\n",
        "            x = x.to(device)\n",
        "            y = y.to(device)\n",
        "\n",
        "            y_pred = model.predict(x)\n",
        "            output_vals.append(y_pred)\n",
        "            # accuracy_val = (y_pred == y).float().mean().item()\n",
        "            # accuracys_val.append(accuracy_val)\n",
        "\n",
        "  # accuracy = torch.FloatTensor(accuracys_val).mean().item()\n",
        "  return output_vals"
      ],
      "metadata": {
        "id": "FObDOykPz16p"
      },
      "execution_count": null,
      "outputs": []
    },
    {
      "cell_type": "markdown",
      "source": [],
      "metadata": {
        "id": "G9y91EOZd08B"
      }
    },
    {
      "cell_type": "markdown",
      "source": [
        "## Problem 7 (Nothing to turn in)\n",
        "\n",
        "Read the documentation and try to understand what a dataloader is. You can start here https://pytorch.org/docs/stable/data.html but there are many tutorials out there as well."
      ],
      "metadata": {
        "id": "JtZYmSP5m7rT"
      }
    },
    {
      "cell_type": "code",
      "source": [
        "# Creating the data: Linear Regression on Linear Data\n",
        "from torch.utils.data import TensorDataset, DataLoader\n",
        "N = 15\n",
        "X = np.random.randn(N,3)\n",
        "beta = np.array([1,-1,2])\n",
        "Y = np.dot(X,beta)\n",
        "tensor_x = torch.Tensor(X) # transform to torch tensor\n",
        "tensor_y = torch.Tensor(Y)\n",
        "print('These are the labels:\\n',Y)\n",
        "print('These are the features:\\n',X)\n",
        "\n",
        "m = 1 # Batch size\n",
        "data = TensorDataset(tensor_x,tensor_y) # create your datset\n",
        "data_train = DataLoader(data,batch_size = m, shuffle = True) # create your dataloader with training data\n",
        "data_val = DataLoader(data) # create your dataloader with validation data, here same as training"
      ],
      "metadata": {
        "id": "qtVUvfryzIJC",
        "colab": {
          "base_uri": "https://localhost:8080/"
        },
        "outputId": "98ff2fd1-4d4c-4a6c-a3e3-c6ca0d353c27"
      },
      "execution_count": null,
      "outputs": [
        {
          "output_type": "stream",
          "name": "stdout",
          "text": [
            "These are the labels:\n",
            " [-1.7519679  -2.36637321  1.64450952 -1.08311234 -3.59502869  0.61054527\n",
            "  3.47618365 -1.2174202   5.05430022  2.41644719 -3.5966827   2.75119075\n",
            " -0.10890393 -1.02555907 -4.22526082]\n",
            "These are the features:\n",
            " [[-0.58865963  1.22101551  0.02885362]\n",
            " [-0.2546925  -0.66258649 -1.3871336 ]\n",
            " [ 0.88436887 -2.1048084  -0.67233388]\n",
            " [ 0.01184131 -2.21318558 -1.65406962]\n",
            " [-1.29468546  0.89878669 -0.70077827]\n",
            " [-0.11216729 -0.23123168  0.24574044]\n",
            " [ 1.16796614 -0.56918593  0.86951579]\n",
            " [ 0.1773212   0.997742   -0.1984997 ]\n",
            " [ 1.0558851  -0.83791142  1.58025185]\n",
            " [ 0.7989874  -0.07495659  0.7712516 ]\n",
            " [-0.71258466 -0.6564217  -1.77025987]\n",
            " [ 0.81754494 -1.42097871  0.25633355]\n",
            " [ 0.54502558  0.7214245   0.0337475 ]\n",
            " [ 0.89484352  0.14890549 -0.88574855]\n",
            " [-1.18454194  0.65324115 -1.19373886]]\n"
          ]
        }
      ]
    },
    {
      "cell_type": "code",
      "source": [],
      "metadata": {
        "id": "1rBnBwV8RaMr"
      },
      "execution_count": null,
      "outputs": []
    },
    {
      "cell_type": "markdown",
      "source": [
        "## Now we train and evaluate the linear model."
      ],
      "metadata": {
        "id": "aFTIV3OcnKS8"
      }
    },
    {
      "cell_type": "code",
      "source": [
        "# Define the model we wish to use, and train it.\n",
        "device = torch.device('cuda' if torch.cuda.is_available() else 'cpu')\n",
        "\n",
        "model = LinearRegressor(3, 1)\n",
        "model.to(device)\n",
        "\n",
        "train(model, data_train, data_val, device)"
      ],
      "metadata": {
        "id": "BdXFWEN41NBt",
        "colab": {
          "base_uri": "https://localhost:8080/",
          "height": 49,
          "referenced_widgets": [
            "dfd0c585af664734b43d0798b7ad21b0",
            "0e4e35a162bb4686aad59fe40a281463",
            "416254ca1eb14d3a8dba3b5cc067ad3b",
            "3f7ca3de85d742a2a1edcb503f1ce70b",
            "73b5d11481ef44d7a4fdb2b16ca20fb4",
            "d239125c73b042c7aa3aa8c86bde8db9",
            "50e5c2dbafb54e8fb1c9ff8d9bf20c0a",
            "25375f913c74432dbb130afb2077c61e",
            "6c44f37ba76f40669c3afa86518ecb44",
            "55d7ba871a164d319477915374af97b2",
            "dafeec75dd894652b374f8c4af37faec"
          ]
        },
        "outputId": "f1fdbd5f-59f4-43a0-986a-b02ab645ed97"
      },
      "execution_count": null,
      "outputs": [
        {
          "output_type": "display_data",
          "data": {
            "text/plain": [
              "  0%|          | 0/10000 [00:00<?, ?it/s]"
            ],
            "application/vnd.jupyter.widget-view+json": {
              "version_major": 2,
              "version_minor": 0,
              "model_id": "dfd0c585af664734b43d0798b7ad21b0"
            }
          },
          "metadata": {}
        }
      ]
    },
    {
      "cell_type": "markdown",
      "source": [
        "## Here is some code for getting the parameters of the model."
      ],
      "metadata": {
        "id": "sw--ClBtnYHV"
      }
    },
    {
      "cell_type": "code",
      "source": [
        "# Now let's get the model parameters.\n",
        "# We can see that we have succeeded in learning beta: [1,-1,2]\n",
        "for name, param in model.named_parameters():\n",
        "  print (name, param.data)\n",
        "\n",
        "# If we wanted to, we could also only print the ones that we update (may be useful for more complex models)\n",
        "\"\"\"\n",
        "for name, param in model.named_parameters():\n",
        "    if param.requires_grad:\n",
        "        print (name, param.data)\n",
        "\"\"\""
      ],
      "metadata": {
        "id": "5hfTNlIjTNCV",
        "colab": {
          "base_uri": "https://localhost:8080/",
          "height": 70
        },
        "outputId": "cf66a4f6-402e-411f-c412-5ad13561e936"
      },
      "execution_count": null,
      "outputs": [
        {
          "output_type": "stream",
          "name": "stdout",
          "text": [
            "linear.weight tensor([[ 1.0000, -1.0000,  2.0000]])\n",
            "linear.bias tensor([2.0799e-05])\n"
          ]
        },
        {
          "output_type": "execute_result",
          "data": {
            "text/plain": [
              "'\\nfor name, param in model.named_parameters():\\n    if param.requires_grad:\\n        print (name, param.data)\\n'"
            ],
            "application/vnd.google.colaboratory.intrinsic+json": {
              "type": "string"
            }
          },
          "metadata": {},
          "execution_count": 11
        }
      ]
    },
    {
      "cell_type": "code",
      "source": [
        "# Now let's move to our second model: the two layer linear regressor.\n",
        "# We again define the model using the class we created.\n",
        "# Then we train the model, as above.\n",
        "\n",
        "device = torch.device('cuda' if torch.cuda.is_available() else 'cpu')\n",
        "\n",
        "model2 = TwoLayerLinearRegressor(3, 1)\n",
        "model2.to(device)\n",
        "\n",
        "train(model2, data_train, data_val, device)"
      ],
      "metadata": {
        "id": "DwrvHtgIFbfl",
        "colab": {
          "base_uri": "https://localhost:8080/",
          "height": 49,
          "referenced_widgets": [
            "5b881a66ff644c49811749f359f10fee",
            "0c7e8c9248f740369e2f1641c01b0339",
            "d2aa3793da454fb7bd0a68d8f93e217f",
            "d2bed493916c4aaea7dcc56b26e2a106",
            "20ea685dbb1343a0bc9ff3d3c9dca0a1",
            "220cf14185aa45c697adf99643d1525f",
            "b8871a9e7c6148d08471d2460d4187c6",
            "3fa504c2c532471eb468fbf85e34a317",
            "73661ea3cbf94a33aa0478334dadb3c7",
            "bff14050390d432ba31e0f597a42ffa7",
            "8b034d0de45945f187f3b31994b4c5c8"
          ]
        },
        "outputId": "557aeada-4df4-435c-f07e-070762d63a1a"
      },
      "execution_count": null,
      "outputs": [
        {
          "output_type": "display_data",
          "data": {
            "text/plain": [
              "  0%|          | 0/10000 [00:00<?, ?it/s]"
            ],
            "application/vnd.jupyter.widget-view+json": {
              "version_major": 2,
              "version_minor": 0,
              "model_id": "5b881a66ff644c49811749f359f10fee"
            }
          },
          "metadata": {}
        }
      ]
    },
    {
      "cell_type": "code",
      "source": [
        "# Let's see how well this model agrees with the training data\n",
        "output_values = evaluate_model(model2,data_val,device)\n",
        "print('Ground Truth:\\n',Y)\n",
        "print('Model Output:\\n',output_values)"
      ],
      "metadata": {
        "id": "priZSqzc1wrW",
        "colab": {
          "base_uri": "https://localhost:8080/"
        },
        "outputId": "e4214cbb-05cc-4d78-a1af-bbe6c7792550"
      },
      "execution_count": null,
      "outputs": [
        {
          "output_type": "stream",
          "name": "stdout",
          "text": [
            "Ground Truth:\n",
            " [-1.7519679  -2.36637321  1.64450952 -1.08311234 -3.59502869  0.61054527\n",
            "  3.47618365 -1.2174202   5.05430022  2.41644719 -3.5966827   2.75119075\n",
            " -0.10890393 -1.02555907 -4.22526082]\n",
            "Model Output:\n",
            " [tensor([-1.7514], grad_fn=<ViewBackward0>), tensor([-2.3664], grad_fn=<ViewBackward0>), tensor([1.6454], grad_fn=<ViewBackward0>), tensor([-1.0825], grad_fn=<ViewBackward0>), tensor([-3.5944], grad_fn=<ViewBackward0>), tensor([0.6121], grad_fn=<ViewBackward0>), tensor([3.4774], grad_fn=<ViewBackward0>), tensor([-1.2178], grad_fn=<ViewBackward0>), tensor([5.0568], grad_fn=<ViewBackward0>), tensor([2.4175], grad_fn=<ViewBackward0>), tensor([-3.5967], grad_fn=<ViewBackward0>), tensor([2.7527], grad_fn=<ViewBackward0>), tensor([-0.1091], grad_fn=<ViewBackward0>), tensor([-1.0268], grad_fn=<ViewBackward0>), tensor([-4.2252], grad_fn=<ViewBackward0>)]\n"
          ]
        }
      ]
    },
    {
      "cell_type": "markdown",
      "source": [
        "# The XOR Data Set\n",
        "We see that linear layers do not suffice."
      ],
      "metadata": {
        "id": "d-oOdWV8C8Nu"
      }
    },
    {
      "cell_type": "code",
      "source": [
        "\"\"\"\n",
        "Here we create the simple XOR data set an a numpy array.\n",
        "Then we make X and Y into tensor objects that torch uses,\n",
        "and we package it into a Dataset object called data.\n",
        "Then we create a DataLoader.\n",
        "\"\"\"\n",
        "\n",
        "Xxor = np.array([[0,0],[0,1],[1,0],[1,1]])\n",
        "Yxor = np.array([0,1,1,0])\n",
        "tensor_xxor = torch.Tensor(Xxor) # transform to torch tensor\n",
        "tensor_yxor = torch.Tensor(Yxor)\n",
        "print('These are the labels:\\n',Yxor)\n",
        "print('These are the features:\\n',Xxor)\n",
        "print(tensor_xxor.shape)\n",
        "print(tensor_yxor.shape)\n",
        "\n",
        "\n",
        "dataxor = TensorDataset(tensor_xxor,tensor_yxor) # create your datset\n",
        "dataxor_train = DataLoader(dataxor) # create your dataloader with training data\n",
        "print(len(dataxor_train))\n",
        "dataxor_val = DataLoader(dataxor) # create your dataloader with validation data, here same as training\n",
        "print(len(dataxor_val))"
      ],
      "metadata": {
        "id": "8Qk0d0DUzt1d",
        "colab": {
          "base_uri": "https://localhost:8080/"
        },
        "outputId": "9cfd7009-32e7-4cc4-b45f-794835fce237"
      },
      "execution_count": null,
      "outputs": [
        {
          "output_type": "stream",
          "name": "stdout",
          "text": [
            "These are the labels:\n",
            " [0 1 1 0]\n",
            "These are the features:\n",
            " [[0 0]\n",
            " [0 1]\n",
            " [1 0]\n",
            " [1 1]]\n",
            "torch.Size([4, 2])\n",
            "torch.Size([4])\n",
            "4\n",
            "4\n"
          ]
        }
      ]
    },
    {
      "cell_type": "markdown",
      "source": [
        "## Problem 8\n",
        "\n",
        "Train your linear regressor on these data. Now see how well you do, by evaluating your solution on the training data. Remember the values we got in class.\n",
        "\n",
        "Your output here should be predicted values for each of the 4 points in our XOR data set."
      ],
      "metadata": {
        "id": "CZngJgatnmr2"
      }
    },
    {
      "cell_type": "code",
      "source": [
        "# Now we train a linear classifier on these data.\n",
        "# We know (and can verify) that this will fail because no linear classifier can succeed\n",
        "\n",
        "device = torch.device('cuda' if torch.cuda.is_available() else 'cpu')\n",
        "\n",
        "model3 = TwoLayerLinearRegressor(2,1)\n",
        "model3.to(device)\n",
        "\n",
        "# TO DO -- give a command to train your model\n",
        "# TO DO -- give a command to evaluate your model\n",
        "# TO DO -- print the ground truth, and then also print what your model predicts for the 4 points in the training set.\n",
        "\n",
        "train(model3, dataxor_train, dataxor_val, device)"
      ],
      "metadata": {
        "id": "8KJ5-QW8-q1I",
        "colab": {
          "base_uri": "https://localhost:8080/",
          "height": 49,
          "referenced_widgets": [
            "ec4af6ff04824b3cb752c74f706fb012",
            "406fa823a6964b949e87b7c3d42ee34f",
            "4eb7875776864a5daf0dd0a7ed717a5a",
            "806f3e1299cf4f55a909804285517056",
            "0d96aa14256f4d038f1934240bdebd43",
            "87daeb3be4de4083b168fd26dca35e82",
            "9b1e767aaade4248bc447a2d6d8c442f",
            "772d78be88a0485497f0bd425b3b9259",
            "caefc0272bef48bdba0494fb132b4fe9",
            "48c2e11fbc5d4804b17a84356a94b2c3",
            "db5b1d485dbd4d3c9fa6f81eac00b022"
          ]
        },
        "outputId": "74c635e1-c55a-4550-8706-5a0c1953f4fa"
      },
      "execution_count": null,
      "outputs": [
        {
          "output_type": "display_data",
          "data": {
            "text/plain": [
              "  0%|          | 0/10000 [00:00<?, ?it/s]"
            ],
            "application/vnd.jupyter.widget-view+json": {
              "version_major": 2,
              "version_minor": 0,
              "model_id": "ec4af6ff04824b3cb752c74f706fb012"
            }
          },
          "metadata": {}
        }
      ]
    },
    {
      "cell_type": "code",
      "source": [
        "output_values = evaluate_model(model3,dataxor_val,device)\n",
        "print('Ground Truth:\\n',Yxor)\n",
        "print('Model Output:\\n',output_values)"
      ],
      "metadata": {
        "colab": {
          "base_uri": "https://localhost:8080/"
        },
        "id": "v88CUhc_kdik",
        "outputId": "a291eb11-f338-406a-c592-526eb7cee1de"
      },
      "execution_count": null,
      "outputs": [
        {
          "output_type": "stream",
          "name": "stdout",
          "text": [
            "Ground Truth:\n",
            " [0 1 1 0]\n",
            "Model Output:\n",
            " [tensor([0.5222], grad_fn=<ViewBackward0>), tensor([0.5165], grad_fn=<ViewBackward0>), tensor([0.5180], grad_fn=<ViewBackward0>), tensor([0.5124], grad_fn=<ViewBackward0>)]\n"
          ]
        }
      ]
    },
    {
      "cell_type": "code",
      "source": [
        "# Now we train a linear classifier on these data.\n",
        "# We know (and can verify) that this will fail because no linear classifier can succeed\n",
        "\n",
        "device = torch.device('cuda' if torch.cuda.is_available() else 'cpu')\n",
        "\n",
        "model2 = TwoLayerLinearRegressor(2,1)\n",
        "model2.to(device)\n",
        "\n",
        "# TO DO -- give a command to train your model\n",
        "# TO DO -- give a command to evaluate your model\n",
        "# TO DO -- print the ground truth, and then also print what your model predicts for the 4 points in the training set.\n",
        "\n",
        "train(model2, dataxor_train, dataxor_val, device)"
      ],
      "metadata": {
        "colab": {
          "base_uri": "https://localhost:8080/",
          "height": 49,
          "referenced_widgets": [
            "040f6574313448ccb2e8819551b60bf1",
            "9a2c71e207dc4b3e9fb53a39d48abd25",
            "5b021786631545e0830f90cfb535ac65",
            "49cf496aca4947cdb9892145fd55de85",
            "ac471a0d2e4e463691e09585dac4c80a",
            "995120a0c8a04e15928abd6e975df950",
            "c9e45e859a644ff192bd6f3417c33449",
            "c58709147a8a4426885d0d6271368478",
            "114fae0e19ce4f208e7b8ce7667e37ee",
            "64207e6c289549f79987e93bae73a76a",
            "6067fdf7c0b1445cb2c4e9c3efd9ef00"
          ]
        },
        "id": "exWPgkWE1den",
        "outputId": "640e8ae2-2f57-4fbd-83d0-9e928f7cf876"
      },
      "execution_count": null,
      "outputs": [
        {
          "output_type": "display_data",
          "data": {
            "text/plain": [
              "  0%|          | 0/10000 [00:00<?, ?it/s]"
            ],
            "application/vnd.jupyter.widget-view+json": {
              "version_major": 2,
              "version_minor": 0,
              "model_id": "040f6574313448ccb2e8819551b60bf1"
            }
          },
          "metadata": {}
        }
      ]
    },
    {
      "cell_type": "code",
      "source": [
        "output_values = evaluate_model(model2,dataxor_val,device)\n",
        "print('Ground Truth:\\n',Yxor)\n",
        "print('Model Output:\\n',output_values)"
      ],
      "metadata": {
        "colab": {
          "base_uri": "https://localhost:8080/"
        },
        "id": "f35MTjNO1lBM",
        "outputId": "2cd9a385-4f13-4702-ed31-abe927283f1b"
      },
      "execution_count": null,
      "outputs": [
        {
          "output_type": "stream",
          "name": "stdout",
          "text": [
            "Ground Truth:\n",
            " [0 1 1 0]\n",
            "Model Output:\n",
            " [tensor([0.5050], grad_fn=<ViewBackward0>), tensor([0.5050], grad_fn=<ViewBackward0>), tensor([0.5050], grad_fn=<ViewBackward0>), tensor([0.5050], grad_fn=<ViewBackward0>)]\n"
          ]
        }
      ]
    },
    {
      "cell_type": "markdown",
      "source": [
        "## Problem 9\n",
        "\n",
        "Now repeat this, but using both versions of your non-linear two-layer model. Thus: train both versions of your non-linear two layer models, and evaluate them on the data.  \n",
        "\n",
        "If you did this correctly, the values you compute should equal (approximately) the values of the XOR function."
      ],
      "metadata": {
        "id": "mE5JK2I9n9qC"
      }
    },
    {
      "cell_type": "code",
      "source": [
        "device = torch.device('cuda' if torch.cuda.is_available() else 'cpu')\n",
        "\n",
        "model4 = TwoLayerNonLinearRegressor2(2,1)\n",
        "model4.to(device)\n",
        "\n",
        "# TO DO -- give a command to train your model\n",
        "# TO DO -- give a command to evaluate your model\n",
        "# TO DO -- print the ground truth, and then also print what your model predicts for the 4 points in the training set.\n",
        "\n",
        "train(model4, dataxor_train, dataxor_val, device)"
      ],
      "metadata": {
        "colab": {
          "base_uri": "https://localhost:8080/",
          "height": 49,
          "referenced_widgets": [
            "08324a24414347b7b34b368a08b56927",
            "6c49f38d86e04b7fb7b1b5f221da5c1d",
            "90d5fe82f71047b2a4c99c1cf29878dc",
            "d03b5fea481a485d850a8f91334440d3",
            "07a5daac74fc40279fe20e2383ff9494",
            "99768866d8e14c1cb52c37fde27827f2",
            "d9ada97ca8ca4338bf9f992463c80249",
            "a5596d8ade3742e29c9fe7db544ad27a",
            "29def8cf82c24501b84ff775660bc01b",
            "918d3a6fe37047478cadf024d2924f5b",
            "4db17cc6cb8448d199566fa7daa536cb"
          ]
        },
        "id": "WCZXJ54gkNwB",
        "outputId": "bbbffae1-60ba-4351-f57f-5fba182462ea"
      },
      "execution_count": null,
      "outputs": [
        {
          "output_type": "display_data",
          "data": {
            "text/plain": [
              "  0%|          | 0/10000 [00:00<?, ?it/s]"
            ],
            "application/vnd.jupyter.widget-view+json": {
              "version_major": 2,
              "version_minor": 0,
              "model_id": "08324a24414347b7b34b368a08b56927"
            }
          },
          "metadata": {}
        }
      ]
    },
    {
      "cell_type": "code",
      "source": [
        "output_values = evaluate_model(model4,dataxor_val,device)\n",
        "print('Ground Truth:\\n',Yxor)\n",
        "print('Model Output:\\n',output_values)"
      ],
      "metadata": {
        "colab": {
          "base_uri": "https://localhost:8080/"
        },
        "id": "3SrRo7xmkgsO",
        "outputId": "116f1e45-96d5-4c79-fdff-cd1408f4038b"
      },
      "execution_count": null,
      "outputs": [
        {
          "output_type": "stream",
          "name": "stdout",
          "text": [
            "Ground Truth:\n",
            " [0 1 1 0]\n",
            "Model Output:\n",
            " [tensor([-0.0011], grad_fn=<ViewBackward0>), tensor([0.6680], grad_fn=<ViewBackward0>), tensor([0.6680], grad_fn=<ViewBackward0>), tensor([0.6680], grad_fn=<ViewBackward0>)]\n"
          ]
        }
      ]
    },
    {
      "cell_type": "code",
      "source": [
        "device = torch.device('cuda' if torch.cuda.is_available() else 'cpu')\n",
        "\n",
        "model5 = TwoLayerNonLinearRegressor(2,1)\n",
        "model5.to(device)\n",
        "\n",
        "# TO DO -- give a command to train your model\n",
        "# TO DO -- give a command to evaluate your model\n",
        "# TO DO -- print the ground truth, and then also print what your model predicts for the 4 points in the training set.\n",
        "\n",
        "train(model5, dataxor_train, dataxor_val, device)"
      ],
      "metadata": {
        "colab": {
          "base_uri": "https://localhost:8080/",
          "height": 49,
          "referenced_widgets": [
            "35f2cfde4ed446f6a366474c951e27e4",
            "f2e53a41c8d740b6946da108ffe6f118",
            "bf258f5745bf46a59ec11f5eed106507",
            "1463e69a65744579bcfcff063404ec27",
            "9cde7c8b1cfb4b53aab70f76f46f8bea",
            "e6ad68d2be1c42878bd6b1a943f10124",
            "d6f10ab20c7a4be99f8c3f933b8c7797",
            "3bf0eef9c4944a6fb0b8e4e9c881ee0d",
            "0a22a17016b04b61baa30a1d393f17a8",
            "79805bc050ac44bf82ffd0a025ebf162",
            "38144136a32e4cb890e88502b48eb601"
          ]
        },
        "id": "Ir8CEaASxitH",
        "outputId": "c1eb57c5-2815-4b28-d742-5b7bdbc18085"
      },
      "execution_count": null,
      "outputs": [
        {
          "output_type": "display_data",
          "data": {
            "text/plain": [
              "  0%|          | 0/10000 [00:00<?, ?it/s]"
            ],
            "application/vnd.jupyter.widget-view+json": {
              "version_major": 2,
              "version_minor": 0,
              "model_id": "35f2cfde4ed446f6a366474c951e27e4"
            }
          },
          "metadata": {}
        }
      ]
    },
    {
      "cell_type": "code",
      "source": [
        "output_values_2 = evaluate_model(model5,dataxor_val,device)\n",
        "print('Ground Truth:\\n',Yxor)\n",
        "print('Model Output:\\n',output_values_2)"
      ],
      "metadata": {
        "colab": {
          "base_uri": "https://localhost:8080/"
        },
        "id": "HzaQVM65xl1u",
        "outputId": "b6737e64-9be4-49e3-8098-f8b82e2d596a"
      },
      "execution_count": null,
      "outputs": [
        {
          "output_type": "stream",
          "name": "stdout",
          "text": [
            "Ground Truth:\n",
            " [0 1 1 0]\n",
            "Model Output:\n",
            " [tensor([-0.0011], grad_fn=<ViewBackward0>), tensor([0.6680], grad_fn=<ViewBackward0>), tensor([0.6680], grad_fn=<ViewBackward0>), tensor([0.6680], grad_fn=<ViewBackward0>)]\n"
          ]
        }
      ]
    },
    {
      "cell_type": "markdown",
      "source": [
        "## Problem 10\n",
        "\n",
        "Print the parameters of one of your non-linear models. Thus, you should print: 4 weights plus 2 bias values for the first layer, and then 2 weights plus 1 bias value for the second: 9 parameters in total."
      ],
      "metadata": {
        "id": "NPRZcvQbpL6K"
      }
    },
    {
      "cell_type": "code",
      "source": [
        "for name, param in model4.named_parameters():\n",
        "  print (name, param.data)"
      ],
      "metadata": {
        "id": "dK_N_j31wCD1",
        "colab": {
          "base_uri": "https://localhost:8080/"
        },
        "outputId": "0b2ffea6-1c69-4179-a191-1f53e2e03b8d"
      },
      "execution_count": null,
      "outputs": [
        {
          "output_type": "stream",
          "name": "stdout",
          "text": [
            "fc1.weight tensor([[-1.1075, -3.3529],\n",
            "        [-0.1910, -0.0727]])\n",
            "fc1.bias tensor([ 0.8180, -0.4138])\n",
            "fc2.weight tensor([[-0.8180, -0.3508]])\n",
            "fc2.bias tensor([0.6680])\n"
          ]
        }
      ]
    },
    {
      "cell_type": "markdown",
      "source": [
        "text down here"
      ],
      "metadata": {
        "id": "cFPonodNfZdo"
      }
    }
  ]
}